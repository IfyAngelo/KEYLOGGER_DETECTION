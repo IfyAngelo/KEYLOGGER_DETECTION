{
  "cells": [
    {
      "cell_type": "markdown",
      "metadata": {
        "papermill": {
          "duration": 0.026831,
          "end_time": "2022-03-09T16:14:54.582932",
          "exception": false,
          "start_time": "2022-03-09T16:14:54.556101",
          "status": "completed"
        },
        "tags": [],
        "id": "_ec0t_G60x-l"
      },
      "source": [
        "# TRADITIONAL ML CLASSIFICATION ALGORITHMS FOR KEYLOGGERS DETECTION.\n"
      ],
      "id": "_ec0t_G60x-l"
    },
    {
      "cell_type": "markdown",
      "metadata": {
        "papermill": {
          "duration": 0.027116,
          "end_time": "2022-03-09T16:14:54.628350",
          "exception": false,
          "start_time": "2022-03-09T16:14:54.601234",
          "status": "completed"
        },
        "tags": [],
        "id": "04M5voY30x_R"
      },
      "source": [
        "#### AIM: TO TEST PROMINENT ML CLASSIFICATION ALGORITHMS AND OBSERVE IF THEY CAN PREDICT THE PRESENCE OF KEYLOGGERS IN A SYSTEM WITH HIGH CONFIDENCE."
      ],
      "id": "04M5voY30x_R"
    },
    {
      "cell_type": "markdown",
      "source": [
        "#### IMPORT REQUIRED LIBRARIES"
      ],
      "metadata": {
        "id": "H50avr_HTDbS"
      },
      "id": "H50avr_HTDbS"
    },
    {
      "cell_type": "code",
      "execution_count": null,
      "metadata": {
        "_cell_guid": "79c7e3d0-c299-4dcb-8224-4455121ee9b0",
        "_uuid": "d629ff2d2480ee46fbb7e2d37f6b5fab8052498a",
        "execution": {
          "iopub.execute_input": "2022-03-09T16:14:54.687142Z",
          "iopub.status.busy": "2022-03-09T16:14:54.685924Z",
          "iopub.status.idle": "2022-03-09T16:14:57.425490Z",
          "shell.execute_reply": "2022-03-09T16:14:57.424769Z",
          "shell.execute_reply.started": "2022-03-06T07:35:46.777274Z"
        },
        "papermill": {
          "duration": 2.770453,
          "end_time": "2022-03-09T16:14:57.425683",
          "exception": false,
          "start_time": "2022-03-09T16:14:54.655230",
          "status": "completed"
        },
        "tags": [],
        "id": "DjL0Yh0-0x_U"
      },
      "outputs": [],
      "source": [
        "# Importing Required Libraries\n",
        "\n",
        "import numpy as np\n",
        "import pandas as pd\n",
        "import matplotlib.pyplot as pt\n",
        "import seaborn as sns\n",
        "\n",
        "from sklearn.metrics import roc_auc_score,accuracy_score,roc_curve, auc\n",
        "from sklearn.linear_model import LogisticRegression\n",
        "from sklearn.naive_bayes import GaussianNB\n",
        "from sklearn.neighbors import KNeighborsClassifier\n",
        "from sklearn.tree import DecisionTreeClassifier\n",
        "from sklearn.ensemble import RandomForestClassifier\n",
        "from xgboost.sklearn import XGBClassifier\n",
        "from lightgbm import LGBMClassifier\n",
        "\n",
        "from sklearn.model_selection import train_test_split, cross_val_score, GridSearchCV\n",
        "from sklearn import metrics"
      ],
      "id": "DjL0Yh0-0x_U"
    },
    {
      "cell_type": "markdown",
      "metadata": {
        "papermill": {
          "duration": 0.028381,
          "end_time": "2022-03-09T16:14:57.482206",
          "exception": false,
          "start_time": "2022-03-09T16:14:57.453825",
          "status": "completed"
        },
        "tags": [],
        "id": "FsIqRCTK0x_a"
      },
      "source": [
        "#### Reading Data"
      ],
      "id": "FsIqRCTK0x_a"
    },
    {
      "cell_type": "code",
      "execution_count": null,
      "metadata": {
        "execution": {
          "iopub.execute_input": "2022-03-09T16:14:57.542179Z",
          "iopub.status.busy": "2022-03-09T16:14:57.540759Z",
          "iopub.status.idle": "2022-03-09T16:15:09.246153Z",
          "shell.execute_reply": "2022-03-09T16:15:09.246685Z",
          "shell.execute_reply.started": "2022-03-06T07:35:46.790595Z"
        },
        "papermill": {
          "duration": 11.737064,
          "end_time": "2022-03-09T16:15:09.246856",
          "exception": false,
          "start_time": "2022-03-09T16:14:57.509792",
          "status": "completed"
        },
        "tags": [],
        "colab": {
          "base_uri": "https://localhost:8080/",
          "height": 421
        },
        "id": "oJkxP2DP0x_d",
        "outputId": "76552890-18c6-459c-b3e1-3032a5c018aa"
      },
      "outputs": [
        {
          "output_type": "stream",
          "name": "stderr",
          "text": [
            "/usr/local/lib/python3.8/dist-packages/IPython/core/interactiveshell.py:3326: DtypeWarning: Columns (48) have mixed types.Specify dtype option on import or set low_memory=False.\n",
            "  exec(code_obj, self.user_global_ns, self.user_ns)\n"
          ]
        },
        {
          "output_type": "execute_result",
          "data": {
            "text/plain": [
              "   S/N                                  Flow ID     Source IP   Source Port  \\\n",
              "0    0      10.42.0.211-52.6.25.230-34451-443-6   10.42.0.211         34451   \n",
              "1    1     172.217.3.99-10.42.0.151-443-53892-6   10.42.0.151         53892   \n",
              "2    2     172.217.3.98-10.42.0.151-443-50750-6  172.217.3.98           443   \n",
              "3    3        10.42.0.211-10.42.0.1-23025-53-17   10.42.0.211         23025   \n",
              "4    4  10.42.0.211-123.129.244.226-52602-443-6   10.42.0.211         52602   \n",
              "\n",
              "    Destination IP   Destination Port   Protocol         Timestamp  \\\n",
              "0      52.6.25.230                443        6.0  04/08/2017 05:12   \n",
              "1     172.217.3.99                443        6.0  04/08/2017 07:55   \n",
              "2      10.42.0.151              50750        6.0  04/08/2017 08:48   \n",
              "3        10.42.0.1                 53       17.0  04/08/2017 05:54   \n",
              "4  123.129.244.226                443        6.0  04/08/2017 08:44   \n",
              "\n",
              "    Flow Duration   Total Fwd Packets  ...   min_seg_size_forward  \\\n",
              "0        12140931                   9  ...                   32.0   \n",
              "1          418882                 102  ...                   32.0   \n",
              "2              45                   2  ...                   32.0   \n",
              "3          541699                   1  ...                   32.0   \n",
              "4         7310795                   3  ...                   20.0   \n",
              "\n",
              "   Active Mean   Active Std   Active Max   Active Min  Idle Mean   Idle Std  \\\n",
              "0          0.0          0.0          0.0          0.0        0.0        0.0   \n",
              "1          0.0          0.0          0.0          0.0        0.0        0.0   \n",
              "2          0.0          0.0          0.0          0.0        0.0        0.0   \n",
              "3          0.0          0.0          0.0          0.0        0.0        0.0   \n",
              "4          0.0          0.0          0.0          0.0        0.0        0.0   \n",
              "\n",
              "    Idle Max   Idle Min   Class  \n",
              "0        0.0        0.0  Benign  \n",
              "1        0.0        0.0  Benign  \n",
              "2        0.0        0.0  Benign  \n",
              "3        0.0        0.0  Benign  \n",
              "4        0.0        0.0  Benign  \n",
              "\n",
              "[5 rows x 86 columns]"
            ],
            "text/html": [
              "\n",
              "  <div id=\"df-77d3af90-be23-404d-a92b-d9e47a489e52\">\n",
              "    <div class=\"colab-df-container\">\n",
              "      <div>\n",
              "<style scoped>\n",
              "    .dataframe tbody tr th:only-of-type {\n",
              "        vertical-align: middle;\n",
              "    }\n",
              "\n",
              "    .dataframe tbody tr th {\n",
              "        vertical-align: top;\n",
              "    }\n",
              "\n",
              "    .dataframe thead th {\n",
              "        text-align: right;\n",
              "    }\n",
              "</style>\n",
              "<table border=\"1\" class=\"dataframe\">\n",
              "  <thead>\n",
              "    <tr style=\"text-align: right;\">\n",
              "      <th></th>\n",
              "      <th>S/N</th>\n",
              "      <th>Flow ID</th>\n",
              "      <th>Source IP</th>\n",
              "      <th>Source Port</th>\n",
              "      <th>Destination IP</th>\n",
              "      <th>Destination Port</th>\n",
              "      <th>Protocol</th>\n",
              "      <th>Timestamp</th>\n",
              "      <th>Flow Duration</th>\n",
              "      <th>Total Fwd Packets</th>\n",
              "      <th>...</th>\n",
              "      <th>min_seg_size_forward</th>\n",
              "      <th>Active Mean</th>\n",
              "      <th>Active Std</th>\n",
              "      <th>Active Max</th>\n",
              "      <th>Active Min</th>\n",
              "      <th>Idle Mean</th>\n",
              "      <th>Idle Std</th>\n",
              "      <th>Idle Max</th>\n",
              "      <th>Idle Min</th>\n",
              "      <th>Class</th>\n",
              "    </tr>\n",
              "  </thead>\n",
              "  <tbody>\n",
              "    <tr>\n",
              "      <th>0</th>\n",
              "      <td>0</td>\n",
              "      <td>10.42.0.211-52.6.25.230-34451-443-6</td>\n",
              "      <td>10.42.0.211</td>\n",
              "      <td>34451</td>\n",
              "      <td>52.6.25.230</td>\n",
              "      <td>443</td>\n",
              "      <td>6.0</td>\n",
              "      <td>04/08/2017 05:12</td>\n",
              "      <td>12140931</td>\n",
              "      <td>9</td>\n",
              "      <td>...</td>\n",
              "      <td>32.0</td>\n",
              "      <td>0.0</td>\n",
              "      <td>0.0</td>\n",
              "      <td>0.0</td>\n",
              "      <td>0.0</td>\n",
              "      <td>0.0</td>\n",
              "      <td>0.0</td>\n",
              "      <td>0.0</td>\n",
              "      <td>0.0</td>\n",
              "      <td>Benign</td>\n",
              "    </tr>\n",
              "    <tr>\n",
              "      <th>1</th>\n",
              "      <td>1</td>\n",
              "      <td>172.217.3.99-10.42.0.151-443-53892-6</td>\n",
              "      <td>10.42.0.151</td>\n",
              "      <td>53892</td>\n",
              "      <td>172.217.3.99</td>\n",
              "      <td>443</td>\n",
              "      <td>6.0</td>\n",
              "      <td>04/08/2017 07:55</td>\n",
              "      <td>418882</td>\n",
              "      <td>102</td>\n",
              "      <td>...</td>\n",
              "      <td>32.0</td>\n",
              "      <td>0.0</td>\n",
              "      <td>0.0</td>\n",
              "      <td>0.0</td>\n",
              "      <td>0.0</td>\n",
              "      <td>0.0</td>\n",
              "      <td>0.0</td>\n",
              "      <td>0.0</td>\n",
              "      <td>0.0</td>\n",
              "      <td>Benign</td>\n",
              "    </tr>\n",
              "    <tr>\n",
              "      <th>2</th>\n",
              "      <td>2</td>\n",
              "      <td>172.217.3.98-10.42.0.151-443-50750-6</td>\n",
              "      <td>172.217.3.98</td>\n",
              "      <td>443</td>\n",
              "      <td>10.42.0.151</td>\n",
              "      <td>50750</td>\n",
              "      <td>6.0</td>\n",
              "      <td>04/08/2017 08:48</td>\n",
              "      <td>45</td>\n",
              "      <td>2</td>\n",
              "      <td>...</td>\n",
              "      <td>32.0</td>\n",
              "      <td>0.0</td>\n",
              "      <td>0.0</td>\n",
              "      <td>0.0</td>\n",
              "      <td>0.0</td>\n",
              "      <td>0.0</td>\n",
              "      <td>0.0</td>\n",
              "      <td>0.0</td>\n",
              "      <td>0.0</td>\n",
              "      <td>Benign</td>\n",
              "    </tr>\n",
              "    <tr>\n",
              "      <th>3</th>\n",
              "      <td>3</td>\n",
              "      <td>10.42.0.211-10.42.0.1-23025-53-17</td>\n",
              "      <td>10.42.0.211</td>\n",
              "      <td>23025</td>\n",
              "      <td>10.42.0.1</td>\n",
              "      <td>53</td>\n",
              "      <td>17.0</td>\n",
              "      <td>04/08/2017 05:54</td>\n",
              "      <td>541699</td>\n",
              "      <td>1</td>\n",
              "      <td>...</td>\n",
              "      <td>32.0</td>\n",
              "      <td>0.0</td>\n",
              "      <td>0.0</td>\n",
              "      <td>0.0</td>\n",
              "      <td>0.0</td>\n",
              "      <td>0.0</td>\n",
              "      <td>0.0</td>\n",
              "      <td>0.0</td>\n",
              "      <td>0.0</td>\n",
              "      <td>Benign</td>\n",
              "    </tr>\n",
              "    <tr>\n",
              "      <th>4</th>\n",
              "      <td>4</td>\n",
              "      <td>10.42.0.211-123.129.244.226-52602-443-6</td>\n",
              "      <td>10.42.0.211</td>\n",
              "      <td>52602</td>\n",
              "      <td>123.129.244.226</td>\n",
              "      <td>443</td>\n",
              "      <td>6.0</td>\n",
              "      <td>04/08/2017 08:44</td>\n",
              "      <td>7310795</td>\n",
              "      <td>3</td>\n",
              "      <td>...</td>\n",
              "      <td>20.0</td>\n",
              "      <td>0.0</td>\n",
              "      <td>0.0</td>\n",
              "      <td>0.0</td>\n",
              "      <td>0.0</td>\n",
              "      <td>0.0</td>\n",
              "      <td>0.0</td>\n",
              "      <td>0.0</td>\n",
              "      <td>0.0</td>\n",
              "      <td>Benign</td>\n",
              "    </tr>\n",
              "  </tbody>\n",
              "</table>\n",
              "<p>5 rows × 86 columns</p>\n",
              "</div>\n",
              "      <button class=\"colab-df-convert\" onclick=\"convertToInteractive('df-77d3af90-be23-404d-a92b-d9e47a489e52')\"\n",
              "              title=\"Convert this dataframe to an interactive table.\"\n",
              "              style=\"display:none;\">\n",
              "        \n",
              "  <svg xmlns=\"http://www.w3.org/2000/svg\" height=\"24px\"viewBox=\"0 0 24 24\"\n",
              "       width=\"24px\">\n",
              "    <path d=\"M0 0h24v24H0V0z\" fill=\"none\"/>\n",
              "    <path d=\"M18.56 5.44l.94 2.06.94-2.06 2.06-.94-2.06-.94-.94-2.06-.94 2.06-2.06.94zm-11 1L8.5 8.5l.94-2.06 2.06-.94-2.06-.94L8.5 2.5l-.94 2.06-2.06.94zm10 10l.94 2.06.94-2.06 2.06-.94-2.06-.94-.94-2.06-.94 2.06-2.06.94z\"/><path d=\"M17.41 7.96l-1.37-1.37c-.4-.4-.92-.59-1.43-.59-.52 0-1.04.2-1.43.59L10.3 9.45l-7.72 7.72c-.78.78-.78 2.05 0 2.83L4 21.41c.39.39.9.59 1.41.59.51 0 1.02-.2 1.41-.59l7.78-7.78 2.81-2.81c.8-.78.8-2.07 0-2.86zM5.41 20L4 18.59l7.72-7.72 1.47 1.35L5.41 20z\"/>\n",
              "  </svg>\n",
              "      </button>\n",
              "      \n",
              "  <style>\n",
              "    .colab-df-container {\n",
              "      display:flex;\n",
              "      flex-wrap:wrap;\n",
              "      gap: 12px;\n",
              "    }\n",
              "\n",
              "    .colab-df-convert {\n",
              "      background-color: #E8F0FE;\n",
              "      border: none;\n",
              "      border-radius: 50%;\n",
              "      cursor: pointer;\n",
              "      display: none;\n",
              "      fill: #1967D2;\n",
              "      height: 32px;\n",
              "      padding: 0 0 0 0;\n",
              "      width: 32px;\n",
              "    }\n",
              "\n",
              "    .colab-df-convert:hover {\n",
              "      background-color: #E2EBFA;\n",
              "      box-shadow: 0px 1px 2px rgba(60, 64, 67, 0.3), 0px 1px 3px 1px rgba(60, 64, 67, 0.15);\n",
              "      fill: #174EA6;\n",
              "    }\n",
              "\n",
              "    [theme=dark] .colab-df-convert {\n",
              "      background-color: #3B4455;\n",
              "      fill: #D2E3FC;\n",
              "    }\n",
              "\n",
              "    [theme=dark] .colab-df-convert:hover {\n",
              "      background-color: #434B5C;\n",
              "      box-shadow: 0px 1px 3px 1px rgba(0, 0, 0, 0.15);\n",
              "      filter: drop-shadow(0px 1px 2px rgba(0, 0, 0, 0.3));\n",
              "      fill: #FFFFFF;\n",
              "    }\n",
              "  </style>\n",
              "\n",
              "      <script>\n",
              "        const buttonEl =\n",
              "          document.querySelector('#df-77d3af90-be23-404d-a92b-d9e47a489e52 button.colab-df-convert');\n",
              "        buttonEl.style.display =\n",
              "          google.colab.kernel.accessAllowed ? 'block' : 'none';\n",
              "\n",
              "        async function convertToInteractive(key) {\n",
              "          const element = document.querySelector('#df-77d3af90-be23-404d-a92b-d9e47a489e52');\n",
              "          const dataTable =\n",
              "            await google.colab.kernel.invokeFunction('convertToInteractive',\n",
              "                                                     [key], {});\n",
              "          if (!dataTable) return;\n",
              "\n",
              "          const docLinkHtml = 'Like what you see? Visit the ' +\n",
              "            '<a target=\"_blank\" href=https://colab.research.google.com/notebooks/data_table.ipynb>data table notebook</a>'\n",
              "            + ' to learn more about interactive tables.';\n",
              "          element.innerHTML = '';\n",
              "          dataTable['output_type'] = 'display_data';\n",
              "          await google.colab.output.renderOutput(dataTable, element);\n",
              "          const docLink = document.createElement('div');\n",
              "          docLink.innerHTML = docLinkHtml;\n",
              "          element.appendChild(docLink);\n",
              "        }\n",
              "      </script>\n",
              "    </div>\n",
              "  </div>\n",
              "  "
            ]
          },
          "metadata": {},
          "execution_count": 255
        }
      ],
      "source": [
        "data1 = pd.read_csv('Keylogger_Detection.csv')\n",
        "data1.head(5)"
      ],
      "id": "oJkxP2DP0x_d"
    },
    {
      "cell_type": "markdown",
      "metadata": {
        "papermill": {
          "duration": 0.028674,
          "end_time": "2022-03-09T16:15:09.304382",
          "exception": false,
          "start_time": "2022-03-09T16:15:09.275708",
          "status": "completed"
        },
        "tags": [],
        "id": "1lRebaZh0x_l"
      },
      "source": [
        "#### Understanding Data"
      ],
      "id": "1lRebaZh0x_l"
    },
    {
      "cell_type": "code",
      "execution_count": null,
      "metadata": {
        "execution": {
          "iopub.execute_input": "2022-03-09T16:15:09.371470Z",
          "iopub.status.busy": "2022-03-09T16:15:09.365499Z",
          "iopub.status.idle": "2022-03-09T16:15:09.376815Z",
          "shell.execute_reply": "2022-03-09T16:15:09.376386Z",
          "shell.execute_reply.started": "2022-03-06T07:35:55.137713Z"
        },
        "papermill": {
          "duration": 0.043567,
          "end_time": "2022-03-09T16:15:09.376937",
          "exception": false,
          "start_time": "2022-03-09T16:15:09.333370",
          "status": "completed"
        },
        "tags": [],
        "colab": {
          "base_uri": "https://localhost:8080/"
        },
        "id": "TRuRVqrt0x_o",
        "outputId": "03a9beab-0d3d-474a-8d95-b82ac947b6d1"
      },
      "outputs": [
        {
          "output_type": "execute_result",
          "data": {
            "text/plain": [
              "S/N                  int64\n",
              "Flow ID             object\n",
              " Source IP          object\n",
              " Source Port         int64\n",
              " Destination IP     object\n",
              "                    ...   \n",
              "Idle Mean          float64\n",
              " Idle Std          float64\n",
              " Idle Max          float64\n",
              " Idle Min          float64\n",
              "Class               object\n",
              "Length: 86, dtype: object"
            ]
          },
          "metadata": {},
          "execution_count": 256
        }
      ],
      "source": [
        "data1.dtypes"
      ],
      "id": "TRuRVqrt0x_o"
    },
    {
      "cell_type": "code",
      "source": [
        "data1.shape"
      ],
      "metadata": {
        "colab": {
          "base_uri": "https://localhost:8080/"
        },
        "id": "UZXMyCPkTuWB",
        "outputId": "c1b5298f-c422-4221-9e8a-746da2074992"
      },
      "id": "UZXMyCPkTuWB",
      "execution_count": null,
      "outputs": [
        {
          "output_type": "execute_result",
          "data": {
            "text/plain": [
              "(65139, 86)"
            ]
          },
          "metadata": {},
          "execution_count": 257
        }
      ]
    },
    {
      "cell_type": "code",
      "execution_count": null,
      "metadata": {
        "execution": {
          "iopub.execute_input": "2022-03-09T16:15:09.487146Z",
          "iopub.status.busy": "2022-03-09T16:15:09.486362Z",
          "iopub.status.idle": "2022-03-09T16:15:09.562564Z",
          "shell.execute_reply": "2022-03-09T16:15:09.561921Z",
          "shell.execute_reply.started": "2022-03-06T07:35:55.148272Z"
        },
        "papermill": {
          "duration": 0.165681,
          "end_time": "2022-03-09T16:15:09.562713",
          "exception": false,
          "start_time": "2022-03-09T16:15:09.397032",
          "status": "completed"
        },
        "tags": [],
        "id": "9r9A4pGt0x_s"
      },
      "outputs": [],
      "source": [
        "Class_df = data1[\"Class\"]\n",
        "data2 = data1.select_dtypes(include=[np.number])\n",
        "data2 = data2.join(Class_df)"
      ],
      "id": "9r9A4pGt0x_s"
    },
    {
      "cell_type": "markdown",
      "metadata": {
        "papermill": {
          "duration": 0.028856,
          "end_time": "2022-03-09T16:15:09.806913",
          "exception": false,
          "start_time": "2022-03-09T16:15:09.778057",
          "status": "completed"
        },
        "tags": [],
        "id": "olB0ukAE0x_4"
      },
      "source": [
        "#### Data Preparation"
      ],
      "id": "olB0ukAE0x_4"
    },
    {
      "cell_type": "code",
      "execution_count": null,
      "metadata": {
        "execution": {
          "iopub.execute_input": "2022-03-09T16:15:09.870829Z",
          "iopub.status.busy": "2022-03-09T16:15:09.870162Z",
          "iopub.status.idle": "2022-03-09T16:15:10.271417Z",
          "shell.execute_reply": "2022-03-09T16:15:10.270705Z",
          "shell.execute_reply.started": "2022-03-06T07:35:55.772927Z"
        },
        "papermill": {
          "duration": 0.435802,
          "end_time": "2022-03-09T16:15:10.271555",
          "exception": false,
          "start_time": "2022-03-09T16:15:09.835753",
          "status": "completed"
        },
        "tags": [],
        "colab": {
          "base_uri": "https://localhost:8080/"
        },
        "id": "9dwAvMVn0x_5",
        "outputId": "915b7524-6b45-42bd-c394-6fd2a144fdff"
      },
      "outputs": [
        {
          "output_type": "stream",
          "name": "stdout",
          "text": [
            "182\n"
          ]
        }
      ],
      "source": [
        "# Removing nan values\n",
        "\n",
        "print(data2.isna().sum().sum())\n",
        "data2 = data2.dropna()"
      ],
      "id": "9dwAvMVn0x_5"
    },
    {
      "cell_type": "code",
      "execution_count": null,
      "metadata": {
        "execution": {
          "iopub.execute_input": "2022-03-09T16:15:10.371697Z",
          "iopub.status.busy": "2022-03-09T16:15:10.335089Z",
          "iopub.status.idle": "2022-03-09T16:15:10.588059Z",
          "shell.execute_reply": "2022-03-09T16:15:10.587493Z",
          "shell.execute_reply.started": "2022-03-06T07:35:56.369053Z"
        },
        "papermill": {
          "duration": 0.287124,
          "end_time": "2022-03-09T16:15:10.588177",
          "exception": false,
          "start_time": "2022-03-09T16:15:10.301053",
          "status": "completed"
        },
        "tags": [],
        "colab": {
          "base_uri": "https://localhost:8080/",
          "height": 617
        },
        "id": "hAEkB9x90x_8",
        "outputId": "99482ed2-b23c-4e1e-80a1-05b297d8afed"
      },
      "outputs": [
        {
          "output_type": "stream",
          "name": "stderr",
          "text": [
            "<ipython-input-260-c7782ed213fa>:1: SettingWithCopyWarning: \n",
            "A value is trying to be set on a copy of a slice from a DataFrame.\n",
            "Try using .loc[row_indexer,col_indexer] = value instead\n",
            "\n",
            "See the caveats in the documentation: https://pandas.pydata.org/pandas-docs/stable/user_guide/indexing.html#returning-a-view-versus-a-copy\n",
            "  data2[\"Target\"] = data2[\"Class\"]\n",
            "/usr/local/lib/python3.8/dist-packages/pandas/core/indexing.py:1817: SettingWithCopyWarning: \n",
            "A value is trying to be set on a copy of a slice from a DataFrame.\n",
            "Try using .loc[row_indexer,col_indexer] = value instead\n",
            "\n",
            "See the caveats in the documentation: https://pandas.pydata.org/pandas-docs/stable/user_guide/indexing.html#returning-a-view-versus-a-copy\n",
            "  self._setitem_single_column(loc, value, pi)\n",
            "/usr/local/lib/python3.8/dist-packages/pandas/core/frame.py:4906: SettingWithCopyWarning: \n",
            "A value is trying to be set on a copy of a slice from a DataFrame\n",
            "\n",
            "See the caveats in the documentation: https://pandas.pydata.org/pandas-docs/stable/user_guide/indexing.html#returning-a-view-versus-a-copy\n",
            "  return super().drop(\n"
          ]
        },
        {
          "output_type": "execute_result",
          "data": {
            "text/plain": [
              "         S/N   Source Port   Destination Port   Protocol   Flow Duration  \\\n",
              "22021  22021         54583                443        6.0        30875738   \n",
              "24272  24272         57430                443        6.0            1346   \n",
              "8088    8088         41694                443        6.0           57673   \n",
              "5026    5026         22328                 53       17.0           97399   \n",
              "53592  53592         54527                443        6.0           37986   \n",
              "\n",
              "        Total Fwd Packets   Total Backward Packets  \\\n",
              "22021                  23                     24.0   \n",
              "24272                   3                      0.0   \n",
              "8088                    2                      1.0   \n",
              "5026                    1                      1.0   \n",
              "53592                   2                      0.0   \n",
              "\n",
              "       Total Length of Fwd Packets   Total Length of Bwd Packets  \\\n",
              "22021                        917.0                       23146.0   \n",
              "24272                         42.0                           0.0   \n",
              "8088                         713.0                         416.0   \n",
              "5026                          28.0                          44.0   \n",
              "53592                          0.0                           0.0   \n",
              "\n",
              "        Fwd Packet Length Max  ...   min_seg_size_forward  Active Mean  \\\n",
              "22021                     586  ...                   32.0          0.0   \n",
              "24272                      42  ...                   32.0          0.0   \n",
              "8088                      713  ...                   32.0          0.0   \n",
              "5026                       28  ...                   32.0          0.0   \n",
              "53592                       0  ...                   32.0          0.0   \n",
              "\n",
              "        Active Std   Active Max   Active Min  Idle Mean   Idle Std   Idle Max  \\\n",
              "22021          0.0          0.0          0.0        0.0        0.0        0.0   \n",
              "24272          0.0          0.0          0.0        0.0        0.0        0.0   \n",
              "8088           0.0          0.0          0.0        0.0        0.0        0.0   \n",
              "5026           0.0          0.0          0.0        0.0        0.0        0.0   \n",
              "53592          0.0          0.0          0.0        0.0        0.0        0.0   \n",
              "\n",
              "        Idle Min  Target  \n",
              "22021        0.0       0  \n",
              "24272        0.0       0  \n",
              "8088         0.0       1  \n",
              "5026         0.0       0  \n",
              "53592        0.0       0  \n",
              "\n",
              "[5 rows x 81 columns]"
            ],
            "text/html": [
              "\n",
              "  <div id=\"df-e2dd23ca-18cf-4914-9efa-02e971982455\">\n",
              "    <div class=\"colab-df-container\">\n",
              "      <div>\n",
              "<style scoped>\n",
              "    .dataframe tbody tr th:only-of-type {\n",
              "        vertical-align: middle;\n",
              "    }\n",
              "\n",
              "    .dataframe tbody tr th {\n",
              "        vertical-align: top;\n",
              "    }\n",
              "\n",
              "    .dataframe thead th {\n",
              "        text-align: right;\n",
              "    }\n",
              "</style>\n",
              "<table border=\"1\" class=\"dataframe\">\n",
              "  <thead>\n",
              "    <tr style=\"text-align: right;\">\n",
              "      <th></th>\n",
              "      <th>S/N</th>\n",
              "      <th>Source Port</th>\n",
              "      <th>Destination Port</th>\n",
              "      <th>Protocol</th>\n",
              "      <th>Flow Duration</th>\n",
              "      <th>Total Fwd Packets</th>\n",
              "      <th>Total Backward Packets</th>\n",
              "      <th>Total Length of Fwd Packets</th>\n",
              "      <th>Total Length of Bwd Packets</th>\n",
              "      <th>Fwd Packet Length Max</th>\n",
              "      <th>...</th>\n",
              "      <th>min_seg_size_forward</th>\n",
              "      <th>Active Mean</th>\n",
              "      <th>Active Std</th>\n",
              "      <th>Active Max</th>\n",
              "      <th>Active Min</th>\n",
              "      <th>Idle Mean</th>\n",
              "      <th>Idle Std</th>\n",
              "      <th>Idle Max</th>\n",
              "      <th>Idle Min</th>\n",
              "      <th>Target</th>\n",
              "    </tr>\n",
              "  </thead>\n",
              "  <tbody>\n",
              "    <tr>\n",
              "      <th>22021</th>\n",
              "      <td>22021</td>\n",
              "      <td>54583</td>\n",
              "      <td>443</td>\n",
              "      <td>6.0</td>\n",
              "      <td>30875738</td>\n",
              "      <td>23</td>\n",
              "      <td>24.0</td>\n",
              "      <td>917.0</td>\n",
              "      <td>23146.0</td>\n",
              "      <td>586</td>\n",
              "      <td>...</td>\n",
              "      <td>32.0</td>\n",
              "      <td>0.0</td>\n",
              "      <td>0.0</td>\n",
              "      <td>0.0</td>\n",
              "      <td>0.0</td>\n",
              "      <td>0.0</td>\n",
              "      <td>0.0</td>\n",
              "      <td>0.0</td>\n",
              "      <td>0.0</td>\n",
              "      <td>0</td>\n",
              "    </tr>\n",
              "    <tr>\n",
              "      <th>24272</th>\n",
              "      <td>24272</td>\n",
              "      <td>57430</td>\n",
              "      <td>443</td>\n",
              "      <td>6.0</td>\n",
              "      <td>1346</td>\n",
              "      <td>3</td>\n",
              "      <td>0.0</td>\n",
              "      <td>42.0</td>\n",
              "      <td>0.0</td>\n",
              "      <td>42</td>\n",
              "      <td>...</td>\n",
              "      <td>32.0</td>\n",
              "      <td>0.0</td>\n",
              "      <td>0.0</td>\n",
              "      <td>0.0</td>\n",
              "      <td>0.0</td>\n",
              "      <td>0.0</td>\n",
              "      <td>0.0</td>\n",
              "      <td>0.0</td>\n",
              "      <td>0.0</td>\n",
              "      <td>0</td>\n",
              "    </tr>\n",
              "    <tr>\n",
              "      <th>8088</th>\n",
              "      <td>8088</td>\n",
              "      <td>41694</td>\n",
              "      <td>443</td>\n",
              "      <td>6.0</td>\n",
              "      <td>57673</td>\n",
              "      <td>2</td>\n",
              "      <td>1.0</td>\n",
              "      <td>713.0</td>\n",
              "      <td>416.0</td>\n",
              "      <td>713</td>\n",
              "      <td>...</td>\n",
              "      <td>32.0</td>\n",
              "      <td>0.0</td>\n",
              "      <td>0.0</td>\n",
              "      <td>0.0</td>\n",
              "      <td>0.0</td>\n",
              "      <td>0.0</td>\n",
              "      <td>0.0</td>\n",
              "      <td>0.0</td>\n",
              "      <td>0.0</td>\n",
              "      <td>1</td>\n",
              "    </tr>\n",
              "    <tr>\n",
              "      <th>5026</th>\n",
              "      <td>5026</td>\n",
              "      <td>22328</td>\n",
              "      <td>53</td>\n",
              "      <td>17.0</td>\n",
              "      <td>97399</td>\n",
              "      <td>1</td>\n",
              "      <td>1.0</td>\n",
              "      <td>28.0</td>\n",
              "      <td>44.0</td>\n",
              "      <td>28</td>\n",
              "      <td>...</td>\n",
              "      <td>32.0</td>\n",
              "      <td>0.0</td>\n",
              "      <td>0.0</td>\n",
              "      <td>0.0</td>\n",
              "      <td>0.0</td>\n",
              "      <td>0.0</td>\n",
              "      <td>0.0</td>\n",
              "      <td>0.0</td>\n",
              "      <td>0.0</td>\n",
              "      <td>0</td>\n",
              "    </tr>\n",
              "    <tr>\n",
              "      <th>53592</th>\n",
              "      <td>53592</td>\n",
              "      <td>54527</td>\n",
              "      <td>443</td>\n",
              "      <td>6.0</td>\n",
              "      <td>37986</td>\n",
              "      <td>2</td>\n",
              "      <td>0.0</td>\n",
              "      <td>0.0</td>\n",
              "      <td>0.0</td>\n",
              "      <td>0</td>\n",
              "      <td>...</td>\n",
              "      <td>32.0</td>\n",
              "      <td>0.0</td>\n",
              "      <td>0.0</td>\n",
              "      <td>0.0</td>\n",
              "      <td>0.0</td>\n",
              "      <td>0.0</td>\n",
              "      <td>0.0</td>\n",
              "      <td>0.0</td>\n",
              "      <td>0.0</td>\n",
              "      <td>0</td>\n",
              "    </tr>\n",
              "  </tbody>\n",
              "</table>\n",
              "<p>5 rows × 81 columns</p>\n",
              "</div>\n",
              "      <button class=\"colab-df-convert\" onclick=\"convertToInteractive('df-e2dd23ca-18cf-4914-9efa-02e971982455')\"\n",
              "              title=\"Convert this dataframe to an interactive table.\"\n",
              "              style=\"display:none;\">\n",
              "        \n",
              "  <svg xmlns=\"http://www.w3.org/2000/svg\" height=\"24px\"viewBox=\"0 0 24 24\"\n",
              "       width=\"24px\">\n",
              "    <path d=\"M0 0h24v24H0V0z\" fill=\"none\"/>\n",
              "    <path d=\"M18.56 5.44l.94 2.06.94-2.06 2.06-.94-2.06-.94-.94-2.06-.94 2.06-2.06.94zm-11 1L8.5 8.5l.94-2.06 2.06-.94-2.06-.94L8.5 2.5l-.94 2.06-2.06.94zm10 10l.94 2.06.94-2.06 2.06-.94-2.06-.94-.94-2.06-.94 2.06-2.06.94z\"/><path d=\"M17.41 7.96l-1.37-1.37c-.4-.4-.92-.59-1.43-.59-.52 0-1.04.2-1.43.59L10.3 9.45l-7.72 7.72c-.78.78-.78 2.05 0 2.83L4 21.41c.39.39.9.59 1.41.59.51 0 1.02-.2 1.41-.59l7.78-7.78 2.81-2.81c.8-.78.8-2.07 0-2.86zM5.41 20L4 18.59l7.72-7.72 1.47 1.35L5.41 20z\"/>\n",
              "  </svg>\n",
              "      </button>\n",
              "      \n",
              "  <style>\n",
              "    .colab-df-container {\n",
              "      display:flex;\n",
              "      flex-wrap:wrap;\n",
              "      gap: 12px;\n",
              "    }\n",
              "\n",
              "    .colab-df-convert {\n",
              "      background-color: #E8F0FE;\n",
              "      border: none;\n",
              "      border-radius: 50%;\n",
              "      cursor: pointer;\n",
              "      display: none;\n",
              "      fill: #1967D2;\n",
              "      height: 32px;\n",
              "      padding: 0 0 0 0;\n",
              "      width: 32px;\n",
              "    }\n",
              "\n",
              "    .colab-df-convert:hover {\n",
              "      background-color: #E2EBFA;\n",
              "      box-shadow: 0px 1px 2px rgba(60, 64, 67, 0.3), 0px 1px 3px 1px rgba(60, 64, 67, 0.15);\n",
              "      fill: #174EA6;\n",
              "    }\n",
              "\n",
              "    [theme=dark] .colab-df-convert {\n",
              "      background-color: #3B4455;\n",
              "      fill: #D2E3FC;\n",
              "    }\n",
              "\n",
              "    [theme=dark] .colab-df-convert:hover {\n",
              "      background-color: #434B5C;\n",
              "      box-shadow: 0px 1px 3px 1px rgba(0, 0, 0, 0.15);\n",
              "      filter: drop-shadow(0px 1px 2px rgba(0, 0, 0, 0.3));\n",
              "      fill: #FFFFFF;\n",
              "    }\n",
              "  </style>\n",
              "\n",
              "      <script>\n",
              "        const buttonEl =\n",
              "          document.querySelector('#df-e2dd23ca-18cf-4914-9efa-02e971982455 button.colab-df-convert');\n",
              "        buttonEl.style.display =\n",
              "          google.colab.kernel.accessAllowed ? 'block' : 'none';\n",
              "\n",
              "        async function convertToInteractive(key) {\n",
              "          const element = document.querySelector('#df-e2dd23ca-18cf-4914-9efa-02e971982455');\n",
              "          const dataTable =\n",
              "            await google.colab.kernel.invokeFunction('convertToInteractive',\n",
              "                                                     [key], {});\n",
              "          if (!dataTable) return;\n",
              "\n",
              "          const docLinkHtml = 'Like what you see? Visit the ' +\n",
              "            '<a target=\"_blank\" href=https://colab.research.google.com/notebooks/data_table.ipynb>data table notebook</a>'\n",
              "            + ' to learn more about interactive tables.';\n",
              "          element.innerHTML = '';\n",
              "          dataTable['output_type'] = 'display_data';\n",
              "          await google.colab.output.renderOutput(dataTable, element);\n",
              "          const docLink = document.createElement('div');\n",
              "          docLink.innerHTML = docLinkHtml;\n",
              "          element.appendChild(docLink);\n",
              "        }\n",
              "      </script>\n",
              "    </div>\n",
              "  </div>\n",
              "  "
            ]
          },
          "metadata": {},
          "execution_count": 260
        }
      ],
      "source": [
        "data2[\"Target\"] = data2[\"Class\"]\n",
        "data2.loc[data2.Target == \"Benign\", 'Target'] = 0\n",
        "data2.loc[data2.Target == \"Keylogger\", 'Target'] = 1\n",
        "\n",
        "data2.drop('Class', axis = 1, inplace = True)\n",
        "\n",
        "data2.sample(5)"
      ],
      "id": "hAEkB9x90x_8"
    },
    {
      "cell_type": "markdown",
      "metadata": {
        "papermill": {
          "duration": 0.019667,
          "end_time": "2022-03-09T16:15:10.628335",
          "exception": false,
          "start_time": "2022-03-09T16:15:10.608668",
          "status": "completed"
        },
        "tags": [],
        "id": "QTpXVtKj0x_-"
      },
      "source": [
        "#### Distribution Classes"
      ],
      "id": "QTpXVtKj0x_-"
    },
    {
      "cell_type": "code",
      "execution_count": null,
      "metadata": {
        "execution": {
          "iopub.execute_input": "2022-03-09T16:15:10.672608Z",
          "iopub.status.busy": "2022-03-09T16:15:10.672088Z",
          "iopub.status.idle": "2022-03-09T16:15:10.705299Z",
          "shell.execute_reply": "2022-03-09T16:15:10.705691Z",
          "shell.execute_reply.started": "2022-03-06T07:35:56.77589Z"
        },
        "papermill": {
          "duration": 0.057302,
          "end_time": "2022-03-09T16:15:10.705851",
          "exception": false,
          "start_time": "2022-03-09T16:15:10.648549",
          "status": "completed"
        },
        "tags": [],
        "colab": {
          "base_uri": "https://localhost:8080/"
        },
        "id": "wRd7UW0d0x__",
        "outputId": "187a265d-5847-4d3c-820b-c7e36f906e75"
      },
      "outputs": [
        {
          "output_type": "execute_result",
          "data": {
            "text/plain": [
              "Target\n",
              "0    38286\n",
              "1    26849\n",
              "dtype: int64"
            ]
          },
          "metadata": {},
          "execution_count": 261
        }
      ],
      "source": [
        "data2.groupby('Target').size()"
      ],
      "id": "wRd7UW0d0x__"
    },
    {
      "cell_type": "markdown",
      "source": [
        "#### Check Data Distribution"
      ],
      "metadata": {
        "id": "E8r4JMyzIMQN"
      },
      "id": "E8r4JMyzIMQN"
    },
    {
      "cell_type": "code",
      "source": [
        "sns.countplot(data2['Target'])"
      ],
      "metadata": {
        "colab": {
          "base_uri": "https://localhost:8080/",
          "height": 358
        },
        "id": "BG1Mo_pMIT00",
        "outputId": "38f679b3-2bb5-4b8c-bfe9-e8aef8c760a5"
      },
      "id": "BG1Mo_pMIT00",
      "execution_count": null,
      "outputs": [
        {
          "output_type": "stream",
          "name": "stderr",
          "text": [
            "/usr/local/lib/python3.8/dist-packages/seaborn/_decorators.py:36: FutureWarning: Pass the following variable as a keyword arg: x. From version 0.12, the only valid positional argument will be `data`, and passing other arguments without an explicit keyword will result in an error or misinterpretation.\n",
            "  warnings.warn(\n"
          ]
        },
        {
          "output_type": "execute_result",
          "data": {
            "text/plain": [
              "<matplotlib.axes._subplots.AxesSubplot at 0x7fe9323132e0>"
            ]
          },
          "metadata": {},
          "execution_count": 262
        },
        {
          "output_type": "display_data",
          "data": {
            "text/plain": [
              "<Figure size 432x288 with 1 Axes>"
            ],
            "image/png": "[encoded data removed]"
          },
          "metadata": {
            "needs_background": "light"
          }
        }
      ]
    },
    {
      "cell_type": "code",
      "source": [
        "# To Upsample Target\n",
        "\n",
        "from sklearn.utils import resample\n",
        "\n",
        "#create two dataframes for majority and minorit class\n",
        "data_maj = data2[(data2['Target'] == 0)]\n",
        "data_min = data2[(data2['Target'] == 1)]\n",
        "\n",
        "#upsample minority class\n",
        "data_up = resample(data_min, replace = True, n_samples = 308813, random_state = 42)\n",
        "\n",
        "#combine upsampled class and majority class\n",
        "data2 = pd.concat([data_up, data_maj])"
      ],
      "metadata": {
        "id": "0zoXbU9wIgS_"
      },
      "id": "0zoXbU9wIgS_",
      "execution_count": null,
      "outputs": []
    },
    {
      "cell_type": "markdown",
      "metadata": {
        "papermill": {
          "duration": 0.020871,
          "end_time": "2022-03-09T16:15:10.747779",
          "exception": false,
          "start_time": "2022-03-09T16:15:10.726908",
          "status": "completed"
        },
        "tags": [],
        "id": "Z4480yco0yAB"
      },
      "source": [
        "#### Remove Useless Features"
      ],
      "id": "Z4480yco0yAB"
    },
    {
      "cell_type": "code",
      "execution_count": null,
      "metadata": {
        "execution": {
          "iopub.execute_input": "2022-03-09T16:15:10.792336Z",
          "iopub.status.busy": "2022-03-09T16:15:10.791785Z",
          "iopub.status.idle": "2022-03-09T16:15:11.725526Z",
          "shell.execute_reply": "2022-03-09T16:15:11.725914Z",
          "shell.execute_reply.started": "2022-03-06T07:35:56.842981Z"
        },
        "papermill": {
          "duration": 0.957266,
          "end_time": "2022-03-09T16:15:11.726075",
          "exception": false,
          "start_time": "2022-03-09T16:15:10.768809",
          "status": "completed"
        },
        "tags": [],
        "id": "sb4IVMkw0yAC"
      },
      "outputs": [],
      "source": [
        "for col in (data2.iloc[:, :-1].columns):\n",
        "    if(data2[col].min() == data2[col].max()):\n",
        "            data2.drop(col, axis = 1, inplace = True)"
      ],
      "id": "sb4IVMkw0yAC"
    },
    {
      "cell_type": "markdown",
      "metadata": {
        "papermill": {
          "duration": 0.019833,
          "end_time": "2022-03-09T16:15:11.765906",
          "exception": false,
          "start_time": "2022-03-09T16:15:11.746073",
          "status": "completed"
        },
        "tags": [],
        "id": "X_wDj6YC0yAE"
      },
      "source": [
        "#### Feature Scaling"
      ],
      "id": "X_wDj6YC0yAE"
    },
    {
      "cell_type": "code",
      "execution_count": null,
      "metadata": {
        "execution": {
          "iopub.execute_input": "2022-03-09T16:15:11.810711Z",
          "iopub.status.busy": "2022-03-09T16:15:11.809981Z",
          "iopub.status.idle": "2022-03-09T16:15:12.156978Z",
          "shell.execute_reply": "2022-03-09T16:15:12.157452Z",
          "shell.execute_reply.started": "2022-03-06T07:35:58.915334Z"
        },
        "papermill": {
          "duration": 0.371797,
          "end_time": "2022-03-09T16:15:12.157597",
          "exception": false,
          "start_time": "2022-03-09T16:15:11.785800",
          "status": "completed"
        },
        "tags": [],
        "colab": {
          "base_uri": "https://localhost:8080/",
          "height": 314
        },
        "id": "surL9QW70yAG",
        "outputId": "51aa5600-0f02-4432-a00e-cda88dfd7658"
      },
      "outputs": [
        {
          "output_type": "execute_result",
          "data": {
            "text/plain": [
              "            S/N   Source Port   Destination Port   Protocol   Flow Duration  \\\n",
              "57322  1.316155     -0.760059          -0.391198   1.972498       -0.501011   \n",
              "38187  0.298853     -1.601817          -0.391198   1.972498       -0.489998   \n",
              "2027  -1.623574      1.161584          -0.366008  -0.483749       -0.477743   \n",
              "12986 -1.040945     -1.448486          -0.391198   1.972498       -0.492923   \n",
              "52210  1.044378      0.626811          -0.366008  -0.483749        1.604285   \n",
              "\n",
              "        Total Fwd Packets   Total Backward Packets  \\\n",
              "57322           -0.097487                -0.058678   \n",
              "38187           -0.097487                -0.058678   \n",
              "2027            -0.082306                -0.064869   \n",
              "12986           -0.097487                -0.058678   \n",
              "52210            0.023958                -0.027728   \n",
              "\n",
              "       Total Length of Fwd Packets   Total Length of Bwd Packets  \\\n",
              "57322                    -0.015113                     -0.047019   \n",
              "38187                    -0.015470                     -0.047386   \n",
              "2027                     -0.015932                     -0.047589   \n",
              "12986                    -0.015500                     -0.047226   \n",
              "52210                    -0.010926                     -0.034590   \n",
              "\n",
              "        Fwd Packet Length Max  ...   min_seg_size_forward  Active Mean  \\\n",
              "57322               -0.458135  ...               0.005368    -0.208108   \n",
              "38187               -0.522019  ...               0.005366    -0.208108   \n",
              "2027                -0.604536  ...               0.005368    -0.208108   \n",
              "12986               -0.527343  ...               0.005368    -0.208108   \n",
              "52210               -0.045550  ...               0.005368    -0.208108   \n",
              "\n",
              "        Active Std   Active Max   Active Min  Idle Mean   Idle Std   Idle Max  \\\n",
              "57322    -0.099326    -0.212761    -0.192819  -0.317285  -0.131447  -0.324014   \n",
              "38187    -0.099326    -0.212761    -0.192819  -0.317285  -0.131447  -0.324014   \n",
              "2027     -0.099326    -0.212761    -0.192819  -0.317285  -0.131447  -0.324014   \n",
              "12986    -0.099326    -0.212761    -0.192819  -0.317285  -0.131447  -0.324014   \n",
              "52210    -0.099326    -0.212761    -0.192819  -0.317285  -0.131447  -0.324014   \n",
              "\n",
              "        Idle Min  Target  \n",
              "57322  -0.304123       1  \n",
              "38187  -0.304123       1  \n",
              "2027   -0.304123       1  \n",
              "12986  -0.304123       1  \n",
              "52210  -0.304123       1  \n",
              "\n",
              "[5 rows x 69 columns]"
            ],
            "text/html": [
              "\n",
              "  <div id=\"df-a8817550-7894-49ae-97b3-f2b0567fed9d\">\n",
              "    <div class=\"colab-df-container\">\n",
              "      <div>\n",
              "<style scoped>\n",
              "    .dataframe tbody tr th:only-of-type {\n",
              "        vertical-align: middle;\n",
              "    }\n",
              "\n",
              "    .dataframe tbody tr th {\n",
              "        vertical-align: top;\n",
              "    }\n",
              "\n",
              "    .dataframe thead th {\n",
              "        text-align: right;\n",
              "    }\n",
              "</style>\n",
              "<table border=\"1\" class=\"dataframe\">\n",
              "  <thead>\n",
              "    <tr style=\"text-align: right;\">\n",
              "      <th></th>\n",
              "      <th>S/N</th>\n",
              "      <th>Source Port</th>\n",
              "      <th>Destination Port</th>\n",
              "      <th>Protocol</th>\n",
              "      <th>Flow Duration</th>\n",
              "      <th>Total Fwd Packets</th>\n",
              "      <th>Total Backward Packets</th>\n",
              "      <th>Total Length of Fwd Packets</th>\n",
              "      <th>Total Length of Bwd Packets</th>\n",
              "      <th>Fwd Packet Length Max</th>\n",
              "      <th>...</th>\n",
              "      <th>min_seg_size_forward</th>\n",
              "      <th>Active Mean</th>\n",
              "      <th>Active Std</th>\n",
              "      <th>Active Max</th>\n",
              "      <th>Active Min</th>\n",
              "      <th>Idle Mean</th>\n",
              "      <th>Idle Std</th>\n",
              "      <th>Idle Max</th>\n",
              "      <th>Idle Min</th>\n",
              "      <th>Target</th>\n",
              "    </tr>\n",
              "  </thead>\n",
              "  <tbody>\n",
              "    <tr>\n",
              "      <th>57322</th>\n",
              "      <td>1.316155</td>\n",
              "      <td>-0.760059</td>\n",
              "      <td>-0.391198</td>\n",
              "      <td>1.972498</td>\n",
              "      <td>-0.501011</td>\n",
              "      <td>-0.097487</td>\n",
              "      <td>-0.058678</td>\n",
              "      <td>-0.015113</td>\n",
              "      <td>-0.047019</td>\n",
              "      <td>-0.458135</td>\n",
              "      <td>...</td>\n",
              "      <td>0.005368</td>\n",
              "      <td>-0.208108</td>\n",
              "      <td>-0.099326</td>\n",
              "      <td>-0.212761</td>\n",
              "      <td>-0.192819</td>\n",
              "      <td>-0.317285</td>\n",
              "      <td>-0.131447</td>\n",
              "      <td>-0.324014</td>\n",
              "      <td>-0.304123</td>\n",
              "      <td>1</td>\n",
              "    </tr>\n",
              "    <tr>\n",
              "      <th>38187</th>\n",
              "      <td>0.298853</td>\n",
              "      <td>-1.601817</td>\n",
              "      <td>-0.391198</td>\n",
              "      <td>1.972498</td>\n",
              "      <td>-0.489998</td>\n",
              "      <td>-0.097487</td>\n",
              "      <td>-0.058678</td>\n",
              "      <td>-0.015470</td>\n",
              "      <td>-0.047386</td>\n",
              "      <td>-0.522019</td>\n",
              "      <td>...</td>\n",
              "      <td>0.005366</td>\n",
              "      <td>-0.208108</td>\n",
              "      <td>-0.099326</td>\n",
              "      <td>-0.212761</td>\n",
              "      <td>-0.192819</td>\n",
              "      <td>-0.317285</td>\n",
              "      <td>-0.131447</td>\n",
              "      <td>-0.324014</td>\n",
              "      <td>-0.304123</td>\n",
              "      <td>1</td>\n",
              "    </tr>\n",
              "    <tr>\n",
              "      <th>2027</th>\n",
              "      <td>-1.623574</td>\n",
              "      <td>1.161584</td>\n",
              "      <td>-0.366008</td>\n",
              "      <td>-0.483749</td>\n",
              "      <td>-0.477743</td>\n",
              "      <td>-0.082306</td>\n",
              "      <td>-0.064869</td>\n",
              "      <td>-0.015932</td>\n",
              "      <td>-0.047589</td>\n",
              "      <td>-0.604536</td>\n",
              "      <td>...</td>\n",
              "      <td>0.005368</td>\n",
              "      <td>-0.208108</td>\n",
              "      <td>-0.099326</td>\n",
              "      <td>-0.212761</td>\n",
              "      <td>-0.192819</td>\n",
              "      <td>-0.317285</td>\n",
              "      <td>-0.131447</td>\n",
              "      <td>-0.324014</td>\n",
              "      <td>-0.304123</td>\n",
              "      <td>1</td>\n",
              "    </tr>\n",
              "    <tr>\n",
              "      <th>12986</th>\n",
              "      <td>-1.040945</td>\n",
              "      <td>-1.448486</td>\n",
              "      <td>-0.391198</td>\n",
              "      <td>1.972498</td>\n",
              "      <td>-0.492923</td>\n",
              "      <td>-0.097487</td>\n",
              "      <td>-0.058678</td>\n",
              "      <td>-0.015500</td>\n",
              "      <td>-0.047226</td>\n",
              "      <td>-0.527343</td>\n",
              "      <td>...</td>\n",
              "      <td>0.005368</td>\n",
              "      <td>-0.208108</td>\n",
              "      <td>-0.099326</td>\n",
              "      <td>-0.212761</td>\n",
              "      <td>-0.192819</td>\n",
              "      <td>-0.317285</td>\n",
              "      <td>-0.131447</td>\n",
              "      <td>-0.324014</td>\n",
              "      <td>-0.304123</td>\n",
              "      <td>1</td>\n",
              "    </tr>\n",
              "    <tr>\n",
              "      <th>52210</th>\n",
              "      <td>1.044378</td>\n",
              "      <td>0.626811</td>\n",
              "      <td>-0.366008</td>\n",
              "      <td>-0.483749</td>\n",
              "      <td>1.604285</td>\n",
              "      <td>0.023958</td>\n",
              "      <td>-0.027728</td>\n",
              "      <td>-0.010926</td>\n",
              "      <td>-0.034590</td>\n",
              "      <td>-0.045550</td>\n",
              "      <td>...</td>\n",
              "      <td>0.005368</td>\n",
              "      <td>-0.208108</td>\n",
              "      <td>-0.099326</td>\n",
              "      <td>-0.212761</td>\n",
              "      <td>-0.192819</td>\n",
              "      <td>-0.317285</td>\n",
              "      <td>-0.131447</td>\n",
              "      <td>-0.324014</td>\n",
              "      <td>-0.304123</td>\n",
              "      <td>1</td>\n",
              "    </tr>\n",
              "  </tbody>\n",
              "</table>\n",
              "<p>5 rows × 69 columns</p>\n",
              "</div>\n",
              "      <button class=\"colab-df-convert\" onclick=\"convertToInteractive('df-a8817550-7894-49ae-97b3-f2b0567fed9d')\"\n",
              "              title=\"Convert this dataframe to an interactive table.\"\n",
              "              style=\"display:none;\">\n",
              "        \n",
              "  <svg xmlns=\"http://www.w3.org/2000/svg\" height=\"24px\"viewBox=\"0 0 24 24\"\n",
              "       width=\"24px\">\n",
              "    <path d=\"M0 0h24v24H0V0z\" fill=\"none\"/>\n",
              "    <path d=\"M18.56 5.44l.94 2.06.94-2.06 2.06-.94-2.06-.94-.94-2.06-.94 2.06-2.06.94zm-11 1L8.5 8.5l.94-2.06 2.06-.94-2.06-.94L8.5 2.5l-.94 2.06-2.06.94zm10 10l.94 2.06.94-2.06 2.06-.94-2.06-.94-.94-2.06-.94 2.06-2.06.94z\"/><path d=\"M17.41 7.96l-1.37-1.37c-.4-.4-.92-.59-1.43-.59-.52 0-1.04.2-1.43.59L10.3 9.45l-7.72 7.72c-.78.78-.78 2.05 0 2.83L4 21.41c.39.39.9.59 1.41.59.51 0 1.02-.2 1.41-.59l7.78-7.78 2.81-2.81c.8-.78.8-2.07 0-2.86zM5.41 20L4 18.59l7.72-7.72 1.47 1.35L5.41 20z\"/>\n",
              "  </svg>\n",
              "      </button>\n",
              "      \n",
              "  <style>\n",
              "    .colab-df-container {\n",
              "      display:flex;\n",
              "      flex-wrap:wrap;\n",
              "      gap: 12px;\n",
              "    }\n",
              "\n",
              "    .colab-df-convert {\n",
              "      background-color: #E8F0FE;\n",
              "      border: none;\n",
              "      border-radius: 50%;\n",
              "      cursor: pointer;\n",
              "      display: none;\n",
              "      fill: #1967D2;\n",
              "      height: 32px;\n",
              "      padding: 0 0 0 0;\n",
              "      width: 32px;\n",
              "    }\n",
              "\n",
              "    .colab-df-convert:hover {\n",
              "      background-color: #E2EBFA;\n",
              "      box-shadow: 0px 1px 2px rgba(60, 64, 67, 0.3), 0px 1px 3px 1px rgba(60, 64, 67, 0.15);\n",
              "      fill: #174EA6;\n",
              "    }\n",
              "\n",
              "    [theme=dark] .colab-df-convert {\n",
              "      background-color: #3B4455;\n",
              "      fill: #D2E3FC;\n",
              "    }\n",
              "\n",
              "    [theme=dark] .colab-df-convert:hover {\n",
              "      background-color: #434B5C;\n",
              "      box-shadow: 0px 1px 3px 1px rgba(0, 0, 0, 0.15);\n",
              "      filter: drop-shadow(0px 1px 2px rgba(0, 0, 0, 0.3));\n",
              "      fill: #FFFFFF;\n",
              "    }\n",
              "  </style>\n",
              "\n",
              "      <script>\n",
              "        const buttonEl =\n",
              "          document.querySelector('#df-a8817550-7894-49ae-97b3-f2b0567fed9d button.colab-df-convert');\n",
              "        buttonEl.style.display =\n",
              "          google.colab.kernel.accessAllowed ? 'block' : 'none';\n",
              "\n",
              "        async function convertToInteractive(key) {\n",
              "          const element = document.querySelector('#df-a8817550-7894-49ae-97b3-f2b0567fed9d');\n",
              "          const dataTable =\n",
              "            await google.colab.kernel.invokeFunction('convertToInteractive',\n",
              "                                                     [key], {});\n",
              "          if (!dataTable) return;\n",
              "\n",
              "          const docLinkHtml = 'Like what you see? Visit the ' +\n",
              "            '<a target=\"_blank\" href=https://colab.research.google.com/notebooks/data_table.ipynb>data table notebook</a>'\n",
              "            + ' to learn more about interactive tables.';\n",
              "          element.innerHTML = '';\n",
              "          dataTable['output_type'] = 'display_data';\n",
              "          await google.colab.output.renderOutput(dataTable, element);\n",
              "          const docLink = document.createElement('div');\n",
              "          docLink.innerHTML = docLinkHtml;\n",
              "          element.appendChild(docLink);\n",
              "        }\n",
              "      </script>\n",
              "    </div>\n",
              "  </div>\n",
              "  "
            ]
          },
          "metadata": {},
          "execution_count": 265
        }
      ],
      "source": [
        "# Standardization\n",
        "\n",
        "def standardize(df, col):\n",
        "    df[col] = (df[col] - df[col].mean()) / (df[col].std()) # Standardization\n",
        "\n",
        "for i in (data2.iloc[:, :-1].columns):\n",
        "    standardize(data2, i)\n",
        "\n",
        "data2.head(5)"
      ],
      "id": "surL9QW70yAG"
    },
    {
      "cell_type": "markdown",
      "metadata": {
        "papermill": {
          "duration": 0.020406,
          "end_time": "2022-03-09T16:15:12.250093",
          "exception": false,
          "start_time": "2022-03-09T16:15:12.229687",
          "status": "completed"
        },
        "tags": [],
        "id": "mx2ZsaXu0yAK"
      },
      "source": [
        "#### Split DataSet."
      ],
      "id": "mx2ZsaXu0yAK"
    },
    {
      "cell_type": "code",
      "execution_count": null,
      "metadata": {
        "execution": {
          "iopub.execute_input": "2022-03-09T16:15:12.204115Z",
          "iopub.status.busy": "2022-03-09T16:15:12.203571Z",
          "iopub.status.idle": "2022-03-09T16:15:12.208003Z",
          "shell.execute_reply": "2022-03-09T16:15:12.208401Z",
          "shell.execute_reply.started": "2022-03-06T07:35:59.51323Z"
        },
        "papermill": {
          "duration": 0.029198,
          "end_time": "2022-03-09T16:15:12.208547",
          "exception": false,
          "start_time": "2022-03-09T16:15:12.179349",
          "status": "completed"
        },
        "tags": [],
        "id": "OsadThPB0yAJ"
      },
      "outputs": [],
      "source": [
        "target = ['Target']\n",
        "features = [c for c in data2.columns if c != \"Target\"]"
      ],
      "id": "OsadThPB0yAJ"
    },
    {
      "cell_type": "code",
      "execution_count": null,
      "metadata": {
        "execution": {
          "iopub.execute_input": "2022-03-09T16:15:12.295706Z",
          "iopub.status.busy": "2022-03-09T16:15:12.295146Z",
          "iopub.status.idle": "2022-03-09T16:15:12.406466Z",
          "shell.execute_reply": "2022-03-09T16:15:12.405895Z",
          "shell.execute_reply.started": "2022-03-06T07:35:59.520141Z"
        },
        "papermill": {
          "duration": 0.13597,
          "end_time": "2022-03-09T16:15:12.406597",
          "exception": false,
          "start_time": "2022-03-09T16:15:12.270627",
          "status": "completed"
        },
        "tags": [],
        "colab": {
          "base_uri": "https://localhost:8080/"
        },
        "id": "sf02iD860yAM",
        "outputId": "f81f653d-ead8-4a78-e2fd-3f5d053c2d8f"
      },
      "outputs": [
        {
          "output_type": "execute_result",
          "data": {
            "text/plain": [
              "((347099, 68), (347099, 1))"
            ]
          },
          "metadata": {},
          "execution_count": 267
        }
      ],
      "source": [
        "X = data2[features].values # Features\n",
        "y = data2[target].values # Target\n",
        "\n",
        "X = X.astype(np.float32)\n",
        "y = y.astype(np.float32)\n",
        "\n",
        "X.shape, y.shape,"
      ],
      "id": "sf02iD860yAM"
    },
    {
      "cell_type": "code",
      "execution_count": null,
      "metadata": {
        "execution": {
          "iopub.execute_input": "2022-03-09T16:15:12.465327Z",
          "iopub.status.busy": "2022-03-09T16:15:12.454314Z",
          "iopub.status.idle": "2022-03-09T16:15:12.778184Z",
          "shell.execute_reply": "2022-03-09T16:15:12.777603Z",
          "shell.execute_reply.started": "2022-03-06T07:35:59.804336Z"
        },
        "papermill": {
          "duration": 0.350344,
          "end_time": "2022-03-09T16:15:12.778320",
          "exception": false,
          "start_time": "2022-03-09T16:15:12.427976",
          "status": "completed"
        },
        "tags": [],
        "id": "wkVcM5Y60yAN"
      },
      "outputs": [],
      "source": [
        "from sklearn.model_selection import train_test_split\n",
        "\n",
        "X_train, X_test, y_train, y_test = train_test_split(X, y, test_size = 0.2)"
      ],
      "id": "wkVcM5Y60yAN"
    },
    {
      "cell_type": "code",
      "execution_count": null,
      "metadata": {
        "execution": {
          "iopub.execute_input": "2022-03-09T16:15:12.847134Z",
          "iopub.status.busy": "2022-03-09T16:15:12.846545Z",
          "iopub.status.idle": "2022-03-09T16:15:12.851351Z",
          "shell.execute_reply": "2022-03-09T16:15:12.851865Z",
          "shell.execute_reply.started": "2022-03-06T07:36:00.460281Z"
        },
        "papermill": {
          "duration": 0.042027,
          "end_time": "2022-03-09T16:15:12.852068",
          "exception": false,
          "start_time": "2022-03-09T16:15:12.810041",
          "status": "completed"
        },
        "tags": [],
        "colab": {
          "base_uri": "https://localhost:8080/"
        },
        "id": "84cvn89z0yAQ",
        "outputId": "43492ce4-c86d-491e-ff11-00c1dcab40cb"
      },
      "outputs": [
        {
          "output_type": "execute_result",
          "data": {
            "text/plain": [
              "((277679, 68), (69420, 68), (277679, 1), (69420, 1))"
            ]
          },
          "metadata": {},
          "execution_count": 269
        }
      ],
      "source": [
        "X_train.shape, X_test.shape, y_train.shape, y_test.shape"
      ],
      "id": "84cvn89z0yAQ"
    },
    {
      "cell_type": "markdown",
      "metadata": {
        "papermill": {
          "duration": 0.03209,
          "end_time": "2022-03-09T16:15:12.989812",
          "exception": false,
          "start_time": "2022-03-09T16:15:12.957722",
          "status": "completed"
        },
        "tags": [],
        "id": "VEM6om8R0yAT"
      },
      "source": [
        "#### Build Model"
      ],
      "id": "VEM6om8R0yAT"
    },
    {
      "cell_type": "code",
      "execution_count": null,
      "metadata": {
        "execution": {
          "iopub.execute_input": "2022-03-09T16:15:13.061919Z",
          "iopub.status.busy": "2022-03-09T16:15:13.061261Z",
          "iopub.status.idle": "2022-03-09T16:26:30.105342Z",
          "shell.execute_reply": "2022-03-09T16:26:30.106122Z"
        },
        "papermill": {
          "duration": 677.084586,
          "end_time": "2022-03-09T16:26:30.106510",
          "exception": false,
          "start_time": "2022-03-09T16:15:13.021924",
          "status": "completed"
        },
        "tags": [],
        "colab": {
          "base_uri": "https://localhost:8080/"
        },
        "id": "67_rsjf90yAV",
        "outputId": "67613673-75bd-4709-c022-b0af4f3b2c3e"
      },
      "outputs": [
        {
          "output_type": "stream",
          "name": "stdout",
          "text": [
            "___RUNNING LOGISTICS REGRESSION ALGORITHM_________\n",
            "\n"
          ]
        },
        {
          "output_type": "stream",
          "name": "stderr",
          "text": [
            "/usr/local/lib/python3.8/dist-packages/sklearn/utils/validation.py:993: DataConversionWarning: A column-vector y was passed when a 1d array was expected. Please change the shape of y to (n_samples, ), for example using ravel().\n",
            "  y = column_or_1d(y, warn=True)\n",
            "/usr/local/lib/python3.8/dist-packages/sklearn/utils/validation.py:993: DataConversionWarning: A column-vector y was passed when a 1d array was expected. Please change the shape of y to (n_samples, ), for example using ravel().\n",
            "  y = column_or_1d(y, warn=True)\n",
            "/usr/local/lib/python3.8/dist-packages/sklearn/utils/validation.py:993: DataConversionWarning: A column-vector y was passed when a 1d array was expected. Please change the shape of y to (n_samples, ), for example using ravel().\n",
            "  y = column_or_1d(y, warn=True)\n",
            "/usr/local/lib/python3.8/dist-packages/sklearn/utils/validation.py:993: DataConversionWarning: A column-vector y was passed when a 1d array was expected. Please change the shape of y to (n_samples, ), for example using ravel().\n",
            "  y = column_or_1d(y, warn=True)\n"
          ]
        },
        {
          "output_type": "stream",
          "name": "stdout",
          "text": [
            "___RUNNING RANDOM FOREST ALGORITHM_________\n",
            "\n"
          ]
        },
        {
          "output_type": "stream",
          "name": "stderr",
          "text": [
            "/usr/local/lib/python3.8/dist-packages/sklearn/model_selection/_validation.py:680: DataConversionWarning: A column-vector y was passed when a 1d array was expected. Please change the shape of y to (n_samples,), for example using ravel().\n",
            "  estimator.fit(X_train, y_train, **fit_params)\n",
            "/usr/local/lib/python3.8/dist-packages/sklearn/model_selection/_validation.py:680: DataConversionWarning: A column-vector y was passed when a 1d array was expected. Please change the shape of y to (n_samples,), for example using ravel().\n",
            "  estimator.fit(X_train, y_train, **fit_params)\n",
            "/usr/local/lib/python3.8/dist-packages/sklearn/model_selection/_validation.py:680: DataConversionWarning: A column-vector y was passed when a 1d array was expected. Please change the shape of y to (n_samples,), for example using ravel().\n",
            "  estimator.fit(X_train, y_train, **fit_params)\n",
            "/usr/local/lib/python3.8/dist-packages/sklearn/model_selection/_validation.py:680: DataConversionWarning: A column-vector y was passed when a 1d array was expected. Please change the shape of y to (n_samples,), for example using ravel().\n",
            "  estimator.fit(X_train, y_train, **fit_params)\n",
            "/usr/local/lib/python3.8/dist-packages/sklearn/model_selection/_validation.py:680: DataConversionWarning: A column-vector y was passed when a 1d array was expected. Please change the shape of y to (n_samples,), for example using ravel().\n",
            "  estimator.fit(X_train, y_train, **fit_params)\n",
            "<ipython-input-270-7ecd373379a1>:17: DataConversionWarning: A column-vector y was passed when a 1d array was expected. Please change the shape of y to (n_samples,), for example using ravel().\n",
            "  rf.fit(X_train, y_train)\n"
          ]
        },
        {
          "output_type": "stream",
          "name": "stdout",
          "text": [
            "___RUNNING KNN ALGORITHM_________\n",
            "\n"
          ]
        },
        {
          "output_type": "stream",
          "name": "stderr",
          "text": [
            "/usr/local/lib/python3.8/dist-packages/sklearn/neighbors/_classification.py:198: DataConversionWarning: A column-vector y was passed when a 1d array was expected. Please change the shape of y to (n_samples,), for example using ravel().\n",
            "  return self._fit(X, y)\n",
            "/usr/local/lib/python3.8/dist-packages/sklearn/neighbors/_classification.py:198: DataConversionWarning: A column-vector y was passed when a 1d array was expected. Please change the shape of y to (n_samples,), for example using ravel().\n",
            "  return self._fit(X, y)\n",
            "/usr/local/lib/python3.8/dist-packages/sklearn/neighbors/_classification.py:198: DataConversionWarning: A column-vector y was passed when a 1d array was expected. Please change the shape of y to (n_samples,), for example using ravel().\n",
            "  return self._fit(X, y)\n",
            "/usr/local/lib/python3.8/dist-packages/sklearn/neighbors/_classification.py:198: DataConversionWarning: A column-vector y was passed when a 1d array was expected. Please change the shape of y to (n_samples,), for example using ravel().\n",
            "  return self._fit(X, y)\n",
            "/usr/local/lib/python3.8/dist-packages/sklearn/neighbors/_classification.py:198: DataConversionWarning: A column-vector y was passed when a 1d array was expected. Please change the shape of y to (n_samples,), for example using ravel().\n",
            "  return self._fit(X, y)\n",
            "/usr/local/lib/python3.8/dist-packages/sklearn/neighbors/_classification.py:198: DataConversionWarning: A column-vector y was passed when a 1d array was expected. Please change the shape of y to (n_samples,), for example using ravel().\n",
            "  return self._fit(X, y)\n"
          ]
        },
        {
          "output_type": "stream",
          "name": "stdout",
          "text": [
            "___RUNNING GNB ALGORITHM_________\n",
            "\n"
          ]
        },
        {
          "output_type": "stream",
          "name": "stderr",
          "text": [
            "/usr/local/lib/python3.8/dist-packages/sklearn/utils/validation.py:993: DataConversionWarning: A column-vector y was passed when a 1d array was expected. Please change the shape of y to (n_samples, ), for example using ravel().\n",
            "  y = column_or_1d(y, warn=True)\n",
            "/usr/local/lib/python3.8/dist-packages/sklearn/utils/validation.py:993: DataConversionWarning: A column-vector y was passed when a 1d array was expected. Please change the shape of y to (n_samples, ), for example using ravel().\n",
            "  y = column_or_1d(y, warn=True)\n",
            "/usr/local/lib/python3.8/dist-packages/sklearn/utils/validation.py:993: DataConversionWarning: A column-vector y was passed when a 1d array was expected. Please change the shape of y to (n_samples, ), for example using ravel().\n",
            "  y = column_or_1d(y, warn=True)\n",
            "/usr/local/lib/python3.8/dist-packages/sklearn/utils/validation.py:993: DataConversionWarning: A column-vector y was passed when a 1d array was expected. Please change the shape of y to (n_samples, ), for example using ravel().\n",
            "  y = column_or_1d(y, warn=True)\n",
            "/usr/local/lib/python3.8/dist-packages/sklearn/utils/validation.py:993: DataConversionWarning: A column-vector y was passed when a 1d array was expected. Please change the shape of y to (n_samples, ), for example using ravel().\n",
            "  y = column_or_1d(y, warn=True)\n",
            "/usr/local/lib/python3.8/dist-packages/sklearn/utils/validation.py:993: DataConversionWarning: A column-vector y was passed when a 1d array was expected. Please change the shape of y to (n_samples, ), for example using ravel().\n",
            "  y = column_or_1d(y, warn=True)\n"
          ]
        },
        {
          "output_type": "stream",
          "name": "stdout",
          "text": [
            "___RUNNING Decision Tree ALGORITHM_________\n",
            "\n",
            "___RUNNING XGB ALGORITHM_________\n",
            "\n"
          ]
        },
        {
          "output_type": "stream",
          "name": "stderr",
          "text": [
            "/usr/local/lib/python3.8/dist-packages/sklearn/preprocessing/_label.py:98: DataConversionWarning: A column-vector y was passed when a 1d array was expected. Please change the shape of y to (n_samples, ), for example using ravel().\n",
            "  y = column_or_1d(y, warn=True)\n",
            "/usr/local/lib/python3.8/dist-packages/sklearn/preprocessing/_label.py:133: DataConversionWarning: A column-vector y was passed when a 1d array was expected. Please change the shape of y to (n_samples, ), for example using ravel().\n",
            "  y = column_or_1d(y, warn=True)\n",
            "/usr/local/lib/python3.8/dist-packages/sklearn/preprocessing/_label.py:98: DataConversionWarning: A column-vector y was passed when a 1d array was expected. Please change the shape of y to (n_samples, ), for example using ravel().\n",
            "  y = column_or_1d(y, warn=True)\n",
            "/usr/local/lib/python3.8/dist-packages/sklearn/preprocessing/_label.py:133: DataConversionWarning: A column-vector y was passed when a 1d array was expected. Please change the shape of y to (n_samples, ), for example using ravel().\n",
            "  y = column_or_1d(y, warn=True)\n",
            "/usr/local/lib/python3.8/dist-packages/sklearn/preprocessing/_label.py:98: DataConversionWarning: A column-vector y was passed when a 1d array was expected. Please change the shape of y to (n_samples, ), for example using ravel().\n",
            "  y = column_or_1d(y, warn=True)\n",
            "/usr/local/lib/python3.8/dist-packages/sklearn/preprocessing/_label.py:133: DataConversionWarning: A column-vector y was passed when a 1d array was expected. Please change the shape of y to (n_samples, ), for example using ravel().\n",
            "  y = column_or_1d(y, warn=True)\n",
            "/usr/local/lib/python3.8/dist-packages/sklearn/preprocessing/_label.py:98: DataConversionWarning: A column-vector y was passed when a 1d array was expected. Please change the shape of y to (n_samples, ), for example using ravel().\n",
            "  y = column_or_1d(y, warn=True)\n",
            "/usr/local/lib/python3.8/dist-packages/sklearn/preprocessing/_label.py:133: DataConversionWarning: A column-vector y was passed when a 1d array was expected. Please change the shape of y to (n_samples, ), for example using ravel().\n",
            "  y = column_or_1d(y, warn=True)\n",
            "/usr/local/lib/python3.8/dist-packages/sklearn/preprocessing/_label.py:98: DataConversionWarning: A column-vector y was passed when a 1d array was expected. Please change the shape of y to (n_samples, ), for example using ravel().\n",
            "  y = column_or_1d(y, warn=True)\n",
            "/usr/local/lib/python3.8/dist-packages/sklearn/preprocessing/_label.py:133: DataConversionWarning: A column-vector y was passed when a 1d array was expected. Please change the shape of y to (n_samples, ), for example using ravel().\n",
            "  y = column_or_1d(y, warn=True)\n",
            "/usr/local/lib/python3.8/dist-packages/sklearn/preprocessing/_label.py:98: DataConversionWarning: A column-vector y was passed when a 1d array was expected. Please change the shape of y to (n_samples, ), for example using ravel().\n",
            "  y = column_or_1d(y, warn=True)\n",
            "/usr/local/lib/python3.8/dist-packages/sklearn/preprocessing/_label.py:133: DataConversionWarning: A column-vector y was passed when a 1d array was expected. Please change the shape of y to (n_samples, ), for example using ravel().\n",
            "  y = column_or_1d(y, warn=True)\n"
          ]
        },
        {
          "output_type": "stream",
          "name": "stdout",
          "text": [
            "___RUNNING LGBM ALGORITHM_________\n",
            "\n"
          ]
        },
        {
          "output_type": "stream",
          "name": "stderr",
          "text": [
            "/usr/local/lib/python3.8/dist-packages/sklearn/preprocessing/_label.py:98: DataConversionWarning: A column-vector y was passed when a 1d array was expected. Please change the shape of y to (n_samples, ), for example using ravel().\n",
            "  y = column_or_1d(y, warn=True)\n",
            "/usr/local/lib/python3.8/dist-packages/sklearn/preprocessing/_label.py:133: DataConversionWarning: A column-vector y was passed when a 1d array was expected. Please change the shape of y to (n_samples, ), for example using ravel().\n",
            "  y = column_or_1d(y, warn=True)\n",
            "/usr/local/lib/python3.8/dist-packages/sklearn/preprocessing/_label.py:98: DataConversionWarning: A column-vector y was passed when a 1d array was expected. Please change the shape of y to (n_samples, ), for example using ravel().\n",
            "  y = column_or_1d(y, warn=True)\n",
            "/usr/local/lib/python3.8/dist-packages/sklearn/preprocessing/_label.py:133: DataConversionWarning: A column-vector y was passed when a 1d array was expected. Please change the shape of y to (n_samples, ), for example using ravel().\n",
            "  y = column_or_1d(y, warn=True)\n",
            "/usr/local/lib/python3.8/dist-packages/sklearn/preprocessing/_label.py:98: DataConversionWarning: A column-vector y was passed when a 1d array was expected. Please change the shape of y to (n_samples, ), for example using ravel().\n",
            "  y = column_or_1d(y, warn=True)\n",
            "/usr/local/lib/python3.8/dist-packages/sklearn/preprocessing/_label.py:133: DataConversionWarning: A column-vector y was passed when a 1d array was expected. Please change the shape of y to (n_samples, ), for example using ravel().\n",
            "  y = column_or_1d(y, warn=True)\n",
            "/usr/local/lib/python3.8/dist-packages/sklearn/preprocessing/_label.py:98: DataConversionWarning: A column-vector y was passed when a 1d array was expected. Please change the shape of y to (n_samples, ), for example using ravel().\n",
            "  y = column_or_1d(y, warn=True)\n",
            "/usr/local/lib/python3.8/dist-packages/sklearn/preprocessing/_label.py:133: DataConversionWarning: A column-vector y was passed when a 1d array was expected. Please change the shape of y to (n_samples, ), for example using ravel().\n",
            "  y = column_or_1d(y, warn=True)\n",
            "/usr/local/lib/python3.8/dist-packages/sklearn/preprocessing/_label.py:98: DataConversionWarning: A column-vector y was passed when a 1d array was expected. Please change the shape of y to (n_samples, ), for example using ravel().\n",
            "  y = column_or_1d(y, warn=True)\n",
            "/usr/local/lib/python3.8/dist-packages/sklearn/preprocessing/_label.py:133: DataConversionWarning: A column-vector y was passed when a 1d array was expected. Please change the shape of y to (n_samples, ), for example using ravel().\n",
            "  y = column_or_1d(y, warn=True)\n",
            "/usr/local/lib/python3.8/dist-packages/sklearn/preprocessing/_label.py:98: DataConversionWarning: A column-vector y was passed when a 1d array was expected. Please change the shape of y to (n_samples, ), for example using ravel().\n",
            "  y = column_or_1d(y, warn=True)\n",
            "/usr/local/lib/python3.8/dist-packages/sklearn/preprocessing/_label.py:133: DataConversionWarning: A column-vector y was passed when a 1d array was expected. Please change the shape of y to (n_samples, ), for example using ravel().\n",
            "  y = column_or_1d(y, warn=True)\n"
          ]
        },
        {
          "output_type": "stream",
          "name": "stdout",
          "text": [
            "                  Model  Train Error  Test Accuracy\n",
            "0         Decision Tree       0.0325         0.9735\n",
            "1                   KNN       0.0716         0.9358\n",
            "2       LGBM Classifier       0.1024         0.8980\n",
            "3        XGB Classifier       0.1095         0.8910\n",
            "4  Logistics Regression       0.1101         0.8903\n",
            "5         Random Forest       0.0395         0.8903\n",
            "6  Gaussian Naive Bayes       0.8793         0.1212\n"
          ]
        }
      ],
      "source": [
        "# Logistic Regression Algorithm\n",
        "\n",
        "print('___RUNNING LOGISTICS REGRESSION ALGORITHM_________\\n')\n",
        "lr = LogisticRegression(max_iter = 500, solver = 'liblinear')\n",
        "score = cross_val_score(lr, X_train, y_train, scoring = 'neg_mean_squared_error', cv = 3)\n",
        "lr_mse = round(abs(score.mean()), 4)\n",
        "lr.fit(X_train, y_train)\n",
        "y_pred = lr.predict(X_test)\n",
        "lr_accuracy = round(metrics.accuracy_score(y_test, y_pred), 4)\n",
        "\n",
        "# Random Forest Algorithm\n",
        "\n",
        "print('___RUNNING RANDOM FOREST ALGORITHM_________\\n')\n",
        "rf = RandomForestClassifier(n_estimators = 100)\n",
        "score = cross_val_score(rf, X_train, y_train, scoring = 'neg_mean_squared_error', cv = 5)\n",
        "rf_mse = round(abs(score.mean()), 4)\n",
        "rf.fit(X_train, y_train)\n",
        "y_pred = lr.predict(X_test)\n",
        "rf_accuracy = round(metrics.accuracy_score(y_test, y_pred), 4)\n",
        "\n",
        "# K-Nearest Neighbor Algorithm\n",
        "\n",
        "print('___RUNNING KNN ALGORITHM_________\\n')\n",
        "knn = KNeighborsClassifier(n_neighbors = 3)\n",
        "score = cross_val_score(knn, X_train, y_train, scoring = 'neg_mean_squared_error', cv = 5)\n",
        "knn_mse = round(abs(score.mean()), 4)\n",
        "knn.fit(X_train, y_train)\n",
        "y_pred = knn.predict(X_test)\n",
        "knn_accuracy = round(metrics.accuracy_score(y_test, y_pred), 4)\n",
        "\n",
        "# Gaussian Naive Bayes Algorithm\n",
        "\n",
        "print('___RUNNING GNB ALGORITHM_________\\n')\n",
        "gnb = GaussianNB()\n",
        "score = cross_val_score(gnb, X_train, y_train, scoring = 'neg_mean_squared_error', cv = 5)\n",
        "gnb_mse = round(abs(score.mean()), 4)\n",
        "gnb.fit(X_train, y_train)\n",
        "y_pred = gnb.predict(X_test)\n",
        "gnb_accuracy = round(metrics.accuracy_score(y_test, y_pred), 4)\n",
        "\n",
        "# Decision Tree Algorithm\n",
        "\n",
        "print('___RUNNING Decision Tree ALGORITHM_________\\n')\n",
        "dt = DecisionTreeClassifier()\n",
        "score = cross_val_score(dt, X_train, y_train, scoring = 'neg_mean_squared_error', cv = 5)\n",
        "dt_mse = round(abs(score.mean()), 4)\n",
        "dt.fit(X_train, y_train)\n",
        "y_pred = dt.predict(X_test)\n",
        "dt_accuracy = round(metrics.accuracy_score(y_test, y_pred), 4)\n",
        "\n",
        "# Extreme Gradient Boosting Algorithm\n",
        "\n",
        "print('___RUNNING XGB ALGORITHM_________\\n')\n",
        "xgb = XGBClassifier()\n",
        "score = cross_val_score(xgb, X_train, y_train, scoring = 'neg_mean_squared_error', cv = 5)\n",
        "xgb_mse = round(abs(score.mean()), 4)\n",
        "xgb.fit(X_train, y_train)\n",
        "y_pred = xgb.predict(X_test)\n",
        "xgb_accuracy = round(metrics.accuracy_score(y_test, y_pred), 4)\n",
        "\n",
        "# Light Gradient Boosting M Algorithm\n",
        "\n",
        "print('___RUNNING LGBM ALGORITHM_________\\n')\n",
        "lgbm = LGBMClassifier()\n",
        "score = cross_val_score(lgbm, X_train, y_train, scoring = 'neg_mean_squared_error', cv = 5)\n",
        "lgbm_mse = round(abs(score.mean()), 4)\n",
        "lgbm.fit(X_train, y_train)\n",
        "y_pred = lgbm.predict(X_test)\n",
        "lgbm_accuracy = round(metrics.accuracy_score(y_test, y_pred), 4)\n",
        "\n",
        "\n",
        "model_data = pd.DataFrame({\n",
        "    'Model' : ['Logistics Regression', 'Random Forest', 'KNN', 'Gaussian Naive Bayes', 'Decision Tree', 'XGB Classifier', 'LGBM Classifier'],\n",
        "    'Train Error' : [lr_mse, rf_mse, knn_mse, gnb_mse, dt_mse, xgb_mse, lgbm_mse],\n",
        "    'Test Accuracy' : [lr_accuracy, rf_accuracy, knn_accuracy, gnb_accuracy, dt_accuracy, xgb_accuracy, lgbm_accuracy]\n",
        "})\n",
        "\n",
        "print(model_data.sort_values('Test Accuracy', ascending = False).reset_index(drop = True))"
      ],
      "id": "67_rsjf90yAV"
    },
    {
      "cell_type": "markdown",
      "metadata": {
        "papermill": {
          "duration": 0.059032,
          "end_time": "2022-03-09T16:26:30.226019",
          "exception": false,
          "start_time": "2022-03-09T16:26:30.166987",
          "status": "completed"
        },
        "tags": [],
        "id": "D0GLN27E0yAY"
      },
      "source": [
        "#### Evaluation"
      ],
      "id": "D0GLN27E0yAY"
    },
    {
      "cell_type": "markdown",
      "source": [
        "#### Decision Tree Algorithm"
      ],
      "metadata": {
        "id": "yPEthe8iAvdC"
      },
      "id": "yPEthe8iAvdC"
    },
    {
      "cell_type": "code",
      "execution_count": null,
      "metadata": {
        "execution": {
          "iopub.execute_input": "2022-03-09T16:26:30.344120Z",
          "iopub.status.busy": "2022-03-09T16:26:30.330602Z",
          "iopub.status.idle": "2022-03-09T16:27:06.868648Z",
          "shell.execute_reply": "2022-03-09T16:27:06.869202Z"
        },
        "papermill": {
          "duration": 36.583054,
          "end_time": "2022-03-09T16:27:06.869374",
          "exception": false,
          "start_time": "2022-03-09T16:26:30.286320",
          "status": "completed"
        },
        "tags": [],
        "colab": {
          "base_uri": "https://localhost:8080/"
        },
        "id": "leig_DMa0yAa",
        "outputId": "0da7a52c-561f-43e0-d9e9-9b7586febfb8"
      },
      "outputs": [
        {
          "output_type": "stream",
          "name": "stdout",
          "text": [
            "AUC: 0.879\n"
          ]
        }
      ],
      "source": [
        "y_pred = dt.predict(X_test)\n",
        "AUC = metrics.roc_auc_score(y_test,y_pred)\n",
        "print(\"AUC: {:.3f}\".format(AUC))"
      ],
      "id": "leig_DMa0yAa"
    },
    {
      "cell_type": "code",
      "execution_count": null,
      "metadata": {
        "execution": {
          "iopub.execute_input": "2022-03-09T16:27:07.111435Z",
          "iopub.status.busy": "2022-03-09T16:27:07.110612Z",
          "iopub.status.idle": "2022-03-09T16:27:07.353347Z",
          "shell.execute_reply": "2022-03-09T16:27:07.352681Z"
        },
        "papermill": {
          "duration": 0.306431,
          "end_time": "2022-03-09T16:27:07.353488",
          "exception": false,
          "start_time": "2022-03-09T16:27:07.047057",
          "status": "completed"
        },
        "tags": [],
        "colab": {
          "base_uri": "https://localhost:8080/",
          "height": 295
        },
        "id": "FRLNHtPB0yAc",
        "outputId": "d1fa9acf-330b-41e1-cfb9-95d0412e617f"
      },
      "outputs": [
        {
          "output_type": "display_data",
          "data": {
            "text/plain": [
              "<Figure size 432x288 with 1 Axes>"
            ],
            "image/png": "[encoded data removed]"
          },
          "metadata": {
            "needs_background": "light"
          }
        }
      ],
      "source": [
        "def generate_results(y_test, y_score):\n",
        "    # print(y_score)\n",
        "    fpr, tpr, _ = roc_curve(y_test, y_score)\n",
        "    roc_auc = auc(fpr, tpr)\n",
        "    pt.figure()\n",
        "    pt.plot(fpr, tpr, color='darkorange',\n",
        "             lw=2, label='ROC curve (area = %0.2f)' % roc_auc)\n",
        "    pt.plot([0, 1], [0, 1], color='navy', lw=2, linestyle='--')\n",
        "    pt.xlim([0.0, 1.0])\n",
        "    pt.ylim([0.0, 1.05])\n",
        "    pt.xlabel('False Positive Rate')\n",
        "    pt.ylabel('True Positive Rate')\n",
        "    pt.title('ROC Curve For Decision Tree @ 1st Position')\n",
        "    pt.legend(loc=\"lower right\")\n",
        "    pt.show()\n",
        "    \n",
        "generate_results(y_test, y_pred)"
      ],
      "id": "FRLNHtPB0yAc"
    },
    {
      "cell_type": "markdown",
      "source": [
        "#### K-Nearest Neighbor Algorithm"
      ],
      "metadata": {
        "id": "2rPWxfO0tiuu"
      },
      "id": "2rPWxfO0tiuu"
    },
    {
      "cell_type": "code",
      "source": [
        "y_pred = knn.predict(X_test)\n",
        "AUC = metrics.roc_auc_score(y_test,y_pred)\n",
        "print(\"AUC: {:.3f}\".format(AUC))"
      ],
      "metadata": {
        "colab": {
          "base_uri": "https://localhost:8080/"
        },
        "id": "zKxltSBcEoNK",
        "outputId": "6fd6c17d-7876-4dd8-9d4d-ffe69c4a3222"
      },
      "id": "zKxltSBcEoNK",
      "execution_count": null,
      "outputs": [
        {
          "output_type": "stream",
          "name": "stdout",
          "text": [
            "AUC: 0.709\n"
          ]
        }
      ]
    },
    {
      "cell_type": "code",
      "source": [
        "def generate_results(y_test, y_score):\n",
        "    # print(y_score)\n",
        "    fpr, tpr, _ = roc_curve(y_test, y_score)\n",
        "    roc_auc = auc(fpr, tpr)\n",
        "    pt.figure()\n",
        "    pt.plot(fpr, tpr, color='darkorange',\n",
        "             lw=2, label='ROC curve (area = %0.2f)' % roc_auc)\n",
        "    pt.plot([0, 1], [0, 1], color='navy', lw=2, linestyle='--')\n",
        "    pt.xlim([0.0, 1.0])\n",
        "    pt.ylim([0.0, 1.05])\n",
        "    pt.xlabel('False Positive Rate')\n",
        "    pt.ylabel('True Positive Rate')\n",
        "    pt.title('ROC Curve For KNN @ 2nd Position')\n",
        "    pt.legend(loc=\"lower right\")\n",
        "    pt.show()\n",
        "    \n",
        "generate_results(y_test, y_pred)"
      ],
      "metadata": {
        "colab": {
          "base_uri": "https://localhost:8080/",
          "height": 295
        },
        "id": "fiit3bq7ncbY",
        "outputId": "b57d89bf-665e-461b-8e2d-4ffb4d53385d"
      },
      "id": "fiit3bq7ncbY",
      "execution_count": null,
      "outputs": [
        {
          "output_type": "display_data",
          "data": {
            "text/plain": [
              "<Figure size 432x288 with 1 Axes>"
            ],
            "image/png": "[encoded data removed]"
          },
          "metadata": {
            "needs_background": "light"
          }
        }
      ]
    },
    {
      "cell_type": "markdown",
      "source": [
        "#### Light Gradient Boost Machine ALgorithm"
      ],
      "metadata": {
        "id": "kI9gBb5mttC6"
      },
      "id": "kI9gBb5mttC6"
    },
    {
      "cell_type": "code",
      "source": [
        "y_pred = lgbm.predict(X_test)\n",
        "AUC = metrics.roc_auc_score(y_test,y_pred)\n",
        "print(\"AUC: {:.3f}\".format(AUC))"
      ],
      "metadata": {
        "colab": {
          "base_uri": "https://localhost:8080/"
        },
        "id": "NmyX5e3KppON",
        "outputId": "eb51354c-635a-4aaf-c09d-007ae9297f02"
      },
      "id": "NmyX5e3KppON",
      "execution_count": null,
      "outputs": [
        {
          "output_type": "stream",
          "name": "stdout",
          "text": [
            "AUC: 0.537\n"
          ]
        }
      ]
    },
    {
      "cell_type": "code",
      "source": [
        "def generate_results(y_test, y_score):\n",
        "    # print(y_score)\n",
        "    fpr, tpr, _ = roc_curve(y_test, y_score)\n",
        "    roc_auc = auc(fpr, tpr)\n",
        "    pt.figure()\n",
        "    pt.plot(fpr, tpr, color='darkorange',\n",
        "             lw=2, label='ROC curve (area = %0.2f)' % roc_auc)\n",
        "    pt.plot([0, 1], [0, 1], color='navy', lw=2, linestyle='--')\n",
        "    pt.xlim([0.0, 1.0])\n",
        "    pt.ylim([0.0, 1.05])\n",
        "    pt.xlabel('False Positive Rate')\n",
        "    pt.ylabel('True Positive Rate')\n",
        "    pt.title('ROC Curve For LGBM @ 3rd Position')\n",
        "    pt.legend(loc=\"lower right\")\n",
        "    pt.show()\n",
        "    \n",
        "generate_results(y_test, y_pred)"
      ],
      "metadata": {
        "colab": {
          "base_uri": "https://localhost:8080/",
          "height": 295
        },
        "id": "g2YcrhZxp1kF",
        "outputId": "90fa256f-688b-4933-daa1-ccb870efd5c3"
      },
      "id": "g2YcrhZxp1kF",
      "execution_count": null,
      "outputs": [
        {
          "output_type": "display_data",
          "data": {
            "text/plain": [
              "<Figure size 432x288 with 1 Axes>"
            ],
            "image/png": "[encoded data removed]"
          },
          "metadata": {
            "needs_background": "light"
          }
        }
      ]
    },
    {
      "cell_type": "markdown",
      "source": [
        "#### Extreme Gradient Boost Algorithm"
      ],
      "metadata": {
        "id": "w_1LiCMNtztx"
      },
      "id": "w_1LiCMNtztx"
    },
    {
      "cell_type": "code",
      "source": [
        "y_pred = xgb.predict(X_test)\n",
        "AUC = metrics.roc_auc_score(y_test,y_pred)\n",
        "print(\"AUC: {:.3f}\".format(AUC))"
      ],
      "metadata": {
        "colab": {
          "base_uri": "https://localhost:8080/"
        },
        "id": "xtdb3cIYp9tu",
        "outputId": "7f9e0560-c02c-4558-9d14-6ba78c4b6ef3"
      },
      "id": "xtdb3cIYp9tu",
      "execution_count": null,
      "outputs": [
        {
          "output_type": "stream",
          "name": "stdout",
          "text": [
            "AUC: 0.504\n"
          ]
        }
      ]
    },
    {
      "cell_type": "code",
      "source": [
        "def generate_results(y_test, y_score):\n",
        "    # print(y_score)\n",
        "    fpr, tpr, _ = roc_curve(y_test, y_score)\n",
        "    roc_auc = auc(fpr, tpr)\n",
        "    pt.figure()\n",
        "    pt.plot(fpr, tpr, color='darkorange',\n",
        "             lw=2, label='ROC curve (area = %0.2f)' % roc_auc)\n",
        "    pt.plot([0, 1], [0, 1], color='navy', lw=2, linestyle='--')\n",
        "    pt.xlim([0.0, 1.0])\n",
        "    pt.ylim([0.0, 1.05])\n",
        "    pt.xlabel('False Positive Rate')\n",
        "    pt.ylabel('True Positive Rate')\n",
        "    pt.title('ROC Curve For XGB @ 4th Position')\n",
        "    pt.legend(loc=\"lower right\")\n",
        "    pt.show()\n",
        "    \n",
        "generate_results(y_test, y_pred)"
      ],
      "metadata": {
        "colab": {
          "base_uri": "https://localhost:8080/",
          "height": 295
        },
        "id": "lpQnai19qKnL",
        "outputId": "499c15e5-484b-4aa1-9e77-4f75c7092a1d"
      },
      "id": "lpQnai19qKnL",
      "execution_count": null,
      "outputs": [
        {
          "output_type": "display_data",
          "data": {
            "text/plain": [
              "<Figure size 432x288 with 1 Axes>"
            ],
            "image/png": "[encoded data removed]"
          },
          "metadata": {
            "needs_background": "light"
          }
        }
      ]
    },
    {
      "cell_type": "markdown",
      "source": [
        "#### Logistic Regression Algorithm"
      ],
      "metadata": {
        "id": "o9t-X4A5t6Cn"
      },
      "id": "o9t-X4A5t6Cn"
    },
    {
      "cell_type": "code",
      "source": [
        "y_pred = lr.predict(X_test)\n",
        "AUC = metrics.roc_auc_score(y_test,y_pred)\n",
        "print(\"AUC: {:.3f}\".format(AUC))"
      ],
      "metadata": {
        "colab": {
          "base_uri": "https://localhost:8080/"
        },
        "id": "IItCdzX_sOTd",
        "outputId": "9dddcd81-b7cd-425d-91c3-c00797c7ec6c"
      },
      "id": "IItCdzX_sOTd",
      "execution_count": null,
      "outputs": [
        {
          "output_type": "stream",
          "name": "stdout",
          "text": [
            "AUC: 0.502\n"
          ]
        }
      ]
    },
    {
      "cell_type": "code",
      "source": [
        "def generate_results(y_test, y_score):\n",
        "    # print(y_score)\n",
        "    fpr, tpr, _ = roc_curve(y_test, y_score)\n",
        "    roc_auc = auc(fpr, tpr)\n",
        "    pt.figure()\n",
        "    pt.plot(fpr, tpr, color='darkorange',\n",
        "             lw=2, label='ROC curve (area = %0.2f)' % roc_auc)\n",
        "    pt.plot([0, 1], [0, 1], color='navy', lw=2, linestyle='--')\n",
        "    pt.xlim([0.0, 1.0])\n",
        "    pt.ylim([0.0, 1.05])\n",
        "    pt.xlabel('False Positive Rate')\n",
        "    pt.ylabel('True Positive Rate')\n",
        "    pt.title('ROC Curve For Logistic Regression @ 5th Position')\n",
        "    pt.legend(loc=\"lower right\")\n",
        "    pt.show()\n",
        "    \n",
        "generate_results(y_test, y_pred)"
      ],
      "metadata": {
        "colab": {
          "base_uri": "https://localhost:8080/",
          "height": 295
        },
        "id": "Xmy5OkhGsV0N",
        "outputId": "f44c66ae-3f51-4a1e-c452-946898996b65"
      },
      "id": "Xmy5OkhGsV0N",
      "execution_count": null,
      "outputs": [
        {
          "output_type": "display_data",
          "data": {
            "text/plain": [
              "<Figure size 432x288 with 1 Axes>"
            ],
            "image/png": "[encoded data removed]"
          },
          "metadata": {
            "needs_background": "light"
          }
        }
      ]
    },
    {
      "cell_type": "markdown",
      "source": [
        "#### Random Forest Algorithm"
      ],
      "metadata": {
        "id": "JpcW-4sYt_2R"
      },
      "id": "JpcW-4sYt_2R"
    },
    {
      "cell_type": "code",
      "source": [
        "y_pred = rf.predict(X_test)\n",
        "AUC = metrics.roc_auc_score(y_test,y_pred)\n",
        "print(\"AUC: {:.3f}\".format(AUC))"
      ],
      "metadata": {
        "colab": {
          "base_uri": "https://localhost:8080/"
        },
        "id": "zDKBkRZGseoA",
        "outputId": "16be36a4-24ba-45d6-d046-723b9267bf24"
      },
      "id": "zDKBkRZGseoA",
      "execution_count": null,
      "outputs": [
        {
          "output_type": "stream",
          "name": "stdout",
          "text": [
            "AUC: 0.859\n"
          ]
        }
      ]
    },
    {
      "cell_type": "code",
      "source": [
        "def generate_results(y_test, y_score):\n",
        "    # print(y_score)\n",
        "    fpr, tpr, _ = roc_curve(y_test, y_score)\n",
        "    roc_auc = auc(fpr, tpr)\n",
        "    pt.figure()\n",
        "    pt.plot(fpr, tpr, color='darkorange',\n",
        "             lw=2, label='ROC curve (area = %0.2f)' % roc_auc)\n",
        "    pt.plot([0, 1], [0, 1], color='navy', lw=2, linestyle='--')\n",
        "    pt.xlim([0.0, 1.0])\n",
        "    pt.ylim([0.0, 1.05])\n",
        "    pt.xlabel('False Positive Rate')\n",
        "    pt.ylabel('True Positive Rate')\n",
        "    pt.title('ROC Curve For Random Forest @ 6th Position')\n",
        "    pt.legend(loc=\"lower right\")\n",
        "    pt.show()\n",
        "    \n",
        "generate_results(y_test, y_pred)"
      ],
      "metadata": {
        "colab": {
          "base_uri": "https://localhost:8080/",
          "height": 295
        },
        "id": "3QaFnwtBslcf",
        "outputId": "24be746c-f03c-466b-8302-7d952310a0ee"
      },
      "id": "3QaFnwtBslcf",
      "execution_count": null,
      "outputs": [
        {
          "output_type": "display_data",
          "data": {
            "text/plain": [
              "<Figure size 432x288 with 1 Axes>"
            ],
            "image/png": "[encoded data removed]"
          },
          "metadata": {
            "needs_background": "light"
          }
        }
      ]
    },
    {
      "cell_type": "markdown",
      "source": [
        "#### Gaussian Naive Bayes Algorithm"
      ],
      "metadata": {
        "id": "fRpw3MpxuEnY"
      },
      "id": "fRpw3MpxuEnY"
    },
    {
      "cell_type": "code",
      "source": [
        "y_pred = gnb.predict(X_test)\n",
        "AUC = metrics.roc_auc_score(y_test,y_pred)\n",
        "print(\"AUC: {:.3f}\".format(AUC))"
      ],
      "metadata": {
        "colab": {
          "base_uri": "https://localhost:8080/"
        },
        "id": "5WA5VhVWs5G3",
        "outputId": "dbbf55d9-4249-4ac9-8100-2e24e248a98a"
      },
      "id": "5WA5VhVWs5G3",
      "execution_count": null,
      "outputs": [
        {
          "output_type": "stream",
          "name": "stdout",
          "text": [
            "AUC: 0.501\n"
          ]
        }
      ]
    },
    {
      "cell_type": "code",
      "source": [
        "def generate_results(y_test, y_score):\n",
        "    # print(y_score)\n",
        "    fpr, tpr, _ = roc_curve(y_test, y_score)\n",
        "    roc_auc = auc(fpr, tpr)\n",
        "    pt.figure()\n",
        "    pt.plot(fpr, tpr, color='darkorange',\n",
        "             lw=2, label='ROC curve (area = %0.2f)' % roc_auc)\n",
        "    pt.plot([0, 1], [0, 1], color='navy', lw=2, linestyle='--')\n",
        "    pt.xlim([0.0, 1.0])\n",
        "    pt.ylim([0.0, 1.05])\n",
        "    pt.xlabel('False Positive Rate')\n",
        "    pt.ylabel('True Positive Rate')\n",
        "    pt.title('ROC Curve For Naive Bayes @ 7th Position')\n",
        "    pt.legend(loc=\"lower right\")\n",
        "    pt.show()\n",
        "    \n",
        "generate_results(y_test, y_pred)"
      ],
      "metadata": {
        "colab": {
          "base_uri": "https://localhost:8080/",
          "height": 295
        },
        "id": "Y8dKc053tAnG",
        "outputId": "cf363377-eec8-49f3-a0c5-49c68c8a3198"
      },
      "id": "Y8dKc053tAnG",
      "execution_count": null,
      "outputs": [
        {
          "output_type": "display_data",
          "data": {
            "text/plain": [
              "<Figure size 432x288 with 1 Axes>"
            ],
            "image/png": "[encoded data removed]"
          },
          "metadata": {
            "needs_background": "light"
          }
        }
      ]
    },
    {
      "cell_type": "code",
      "source": [],
      "metadata": {
        "id": "nNLF52fwtHyo"
      },
      "id": "nNLF52fwtHyo",
      "execution_count": null,
      "outputs": []
    }
  ],
  "metadata": {
    "kernelspec": {
      "display_name": "Python 3",
      "language": "python",
      "name": "python3"
    },
    "language_info": {
      "codemirror_mode": {
        "name": "ipython",
        "version": 3
      },
      "file_extension": ".py",
      "mimetype": "text/x-python",
      "name": "python",
      "nbconvert_exporter": "python",
      "pygments_lexer": "ipython3",
      "version": "3.8.5"
    },
    "papermill": {
      "default_parameters": {},
      "duration": 743.882667,
      "end_time": "2022-03-09T16:27:09.719579",
      "environment_variables": {},
      "exception": null,
      "input_path": "__notebook__.ipynb",
      "output_path": "__notebook__.ipynb",
      "parameters": {},
      "start_time": "2022-03-09T16:14:45.836912",
      "version": "2.3.3"
    },
    "colab": {
      "provenance": []
    },
    "accelerator": "GPU",
    "gpuClass": "standard"
  },
  "nbformat": 4,
  "nbformat_minor": 5
}